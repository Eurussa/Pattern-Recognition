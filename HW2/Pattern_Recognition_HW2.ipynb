{
  "nbformat": 4,
  "nbformat_minor": 0,
  "metadata": {
    "colab": {
      "provenance": []
    },
    "kernelspec": {
      "name": "python3",
      "display_name": "Python 3"
    },
    "language_info": {
      "name": "python"
    }
  },
  "cells": [
    {
      "cell_type": "code",
      "execution_count": null,
      "metadata": {
        "id": "BMH5lm_PrhdD"
      },
      "outputs": [],
      "source": [
        "# Only these three packages are allowed\n",
        "import numpy as np\n",
        "import pandas as pd\n",
        "import matplotlib.pyplot as plt"
      ]
    },
    {
      "cell_type": "code",
      "source": [
        "class FLD:\n",
        "    def __init__(self):\n",
        "        \"\"\"\n",
        "            You can add/change any variables/methods to meet your need.\n",
        "        \"\"\"\n",
        "        self.mean_vectors = []\n",
        "        self.sw = None\n",
        "        self.sb = None\n",
        "        self.w = None\n",
        "        self.slope = None\n",
        "\n",
        "        self.classes = None\n",
        "        self.n_samples = None\n",
        "        self.n_features = None\n",
        "        self.classes_samples = None\n",
        "\n",
        "    def fit(self, X, y):\n",
        "        self.classes = np.unique(y)\n",
        "        self.n_samples, self.n_features = X.shape\n",
        "        self.classes_samples = np.zeros([self.classes.shape[0],1])\n",
        "        C1 = []\n",
        "        C2 = []\n",
        "        C3 = []\n",
        "        for i in range(self.n_samples):\n",
        "            # class1\n",
        "            if y[i] == self.classes[0]:\n",
        "                C1.append(X[i])\n",
        "                self.classes_samples[0] += 1\n",
        "            # class2    \n",
        "            elif y[i] == self.classes[1]:\n",
        "                C2.append(X[i])\n",
        "                self.classes_samples[1] += 1\n",
        "            # class3\n",
        "            elif y[i] == self.classes[2]:\n",
        "                C3.append(X[i])\n",
        "                self.classes_samples[2] += 1\n",
        "        \n",
        "        C1 = np.array(C1)\n",
        "        C2 = np.array(C2)\n",
        "        C3 = np.array(C3)\n",
        "        \n",
        "        self.mean_vectors.extend([C1.mean(axis=0),C2.mean(axis=0),C3.mean(axis=0)])\n",
        "        # compute sw\n",
        "        sk1 = np.zeros([self.n_features, self.n_features])\n",
        "        sk2 = np.zeros([self.n_features, self.n_features])\n",
        "        sk3 = np.zeros([self.n_features, self.n_features])\n",
        "        \n",
        "        for x in C1:\n",
        "            mat = x-self.mean_vectors[0]\n",
        "            mat = mat.reshape((mat.shape[0], 1))\n",
        "            sk1 += np.dot(mat, mat.T)\n",
        "        \n",
        "        for x in C2:\n",
        "            mat = x-self.mean_vectors[1]\n",
        "            mat = mat.reshape((mat.shape[0], 1))\n",
        "            sk2 += np.dot(mat, mat.T)\n",
        "        \n",
        "        for x in C3:\n",
        "            mat = x-self.mean_vectors[2]\n",
        "            mat = mat.reshape((mat.shape[0], 1))\n",
        "            sk3 += np.dot(mat, mat.T)\n",
        "        \n",
        "        self.sw = sk1 + sk2 + sk3\n",
        "\n",
        "        # compute sb\n",
        "        overall_m = X.mean(axis=0)\n",
        "        self.sb = np.zeros([self.n_features, self.n_features])\n",
        "        for i in range(self.classes.shape[0]):\n",
        "            # print(i)\n",
        "            mat = self.mean_vectors[i] - overall_m\n",
        "            mat = mat.reshape((mat.shape[0], 1))\n",
        "            self.sb += self.classes_samples[i] * (np.dot(mat, mat.T))\n",
        "\n",
        "        # compute w\n",
        "        # find eigenvalue, eigenvector pairs \n",
        "        mat = np.dot(np.linalg.pinv(self.sw), self.sb)\n",
        "        eigvals, eigvecs = np.linalg.eig(mat)\n",
        "        eiglist = [(eigvals[i], eigvecs[:, i]) for i in range(len(eigvals))]\n",
        "\n",
        "        # sort the eigvals in decreasing order\n",
        "        eiglist = sorted(eiglist, key = lambda x : x[0], reverse = True)\n",
        "        \n",
        "        # take the first eigvectors\n",
        "        self.w = np.array([eiglist[0][1]])     # project to dim 1\n",
        "        self.w = self.w.reshape((self.n_features, 1))\n",
        "        # print(self.w)\n",
        "        pass\n",
        "\n",
        "    def distance(self, pa, pb):\n",
        "        return np.sum((pa-pb)**2)**0.5\n",
        "\n",
        "    def predict_using_class_mean(self, X, y, X_test):\n",
        "        \n",
        "        proj_mean = np.zeros([self.classes.shape[0], 2])\n",
        "        for i in range(self.classes.shape[0]):\n",
        "            proj_mean[i] = np.dot(self.w.T, self.mean_vectors[i])\n",
        "        #print(proj_mean)\n",
        "        proj_X_test = np.zeros([X_test.shape[0], 2])\n",
        "        for i in range(X_test.shape[0]):\n",
        "            proj_X_test[i] = np.dot(self.w.T, X_test[i])\n",
        "        \n",
        "        y_pred=[]\n",
        "        distances = np.zeros([proj_X_test.shape[0], self.classes.shape[0]])\n",
        "        # distances = -2 * np.dot(proj_mean, proj_X_test.T) + np.sum(proj_X_test**2,axis=1) + np.sum(proj_mean**2,axis=1)[:, np.newaxis]\n",
        "        for i in range(proj_X_test.shape[0]):\n",
        "            for j in range(self.classes.shape[0]):\n",
        "                distances[i][j] = self.distance(proj_X_test[i], proj_mean[j])\n",
        "        \n",
        "        y_pred = np.argmin(distances, axis=1)\n",
        "        return y_pred\n",
        "\n",
        "    def knn(self, X, X_test, k=1):\n",
        "       \n",
        "        # calculates the Euclidean distances.\n",
        "        distances = -2 * np.dot(X, X_test.T) + np.sum(X_test**2,axis=1) + np.sum(X**2,axis=1)[:, np.newaxis]\n",
        "        distances[distances < 0] = 0\n",
        "        distances = distances**.5\n",
        "        indices = np.argsort(distances, 0)    # get indices of sorted items\n",
        "        distances = np.sort(distances,0)      # distances sorted in axis 0\n",
        "        # returning the top-k closest distances.\n",
        "        return indices[0:k, : ], distances[0:k, : ]\n",
        "\n",
        "    def predict_using_knn(self, X, y, X_test, k=1):\n",
        "        proj_X = np.zeros([self.n_samples, 2])\n",
        "        proj_X_test = np.zeros([X_test.shape[0], 2])\n",
        "        \n",
        "        for i in range(self.n_samples):\n",
        "            proj_X[i] = np.dot(self.w.T, X[i])\n",
        "        \n",
        "        for i in range(X_test.shape[0]):\n",
        "            proj_X_test[i] = np.dot(self.w.T, X_test[i])\n",
        "\n",
        "        # predicte by nearest-neighbor\n",
        "        indices, distances = self.knn(proj_X, proj_X_test, k)\n",
        "        y = y.flatten()\n",
        "        rows, columns = indices.shape\n",
        "        y_pred = []\n",
        "        for j in range(columns):\n",
        "            temp = []\n",
        "            for i in range(rows):\n",
        "                cell = indices[i][j]\n",
        "                temp.append(y[cell])\n",
        "            y_pred.append(max(temp,key=temp.count)) #this is the key function, brings the mode value\n",
        "        y_pred = np.array(y_pred)\n",
        "        \n",
        "        return y_pred\n",
        "\n",
        "    def show_confusion_matrix(self, y, y_pred):\n",
        "        \n",
        "        confusion_matrix = pd.crosstab(y, y_pred).to_numpy()\n",
        "        plt.imshow(confusion_matrix, interpolation='nearest', cmap=plt.cm.Blues)\n",
        "        plt.title('Confusion matrix')\n",
        "        plt.colorbar()\n",
        "        tick_marks = np.arange(len(self.classes))\n",
        "        plt.xticks(tick_marks, self.classes, rotation=45)\n",
        "        plt.yticks(tick_marks, self.classes)\n",
        "        plt.ylim(len(self.classes) - 0.5, -0.5)\n",
        "        fmt = 'd'\n",
        "        for i in range(confusion_matrix.shape[0]):\n",
        "            for j in range(confusion_matrix.shape[1]):\n",
        "                plt.text(j, i, format(confusion_matrix[i, j], fmt),\n",
        "                  horizontalalignment=\"center\" )\n",
        "        plt.tight_layout()\n",
        "        plt.ylabel('True label')\n",
        "        plt.xlabel('Predicted label')\n",
        "        plt.show()\n",
        "   \n",
        "        pass\n",
        "\n",
        "    def plot_projection(self, X, y):\n",
        "        class1_x = []\n",
        "        class1_y = []\n",
        "        class2_x = []\n",
        "        class2_y = []\n",
        "        class3_x = []\n",
        "        class3_y = []\n",
        "        proj1_x = []\n",
        "        proj1_y = []\n",
        "        proj2_x = []\n",
        "        proj2_y = []\n",
        "        proj3_x = []\n",
        "        proj3_y = []\n",
        "        slope = float(self.w[1] / self.w[0])  # slope = y/x\n",
        "        intercept = 6\n",
        "\n",
        "        # Projection line\n",
        "        x_line = np.linspace(-8, 3, 1000)\n",
        "        y_line = []\n",
        "        for i in x_line:\n",
        "            y_line += [slope * i + intercept]\n",
        "\n",
        "        # Classification ans project point\n",
        "        for i in range(X.shape[0]):\n",
        "            proj = self.w[0] * (X[i][0] - x_line[0]) + self.w[1] * (X[i][1] - y_line[0])\n",
        "            proj /= (self.w[0]**2 + self.w[1]**2)\n",
        "            proj = proj * self.w\n",
        "            # class1\n",
        "            if y[i] == self.classes[0]:\n",
        "                class1_x.append(X[i][0])\n",
        "                class1_y.append(X[i][1])\n",
        "                # project data\n",
        "                proj1_x.append(proj[0] + x_line[0])\n",
        "                proj1_y.append(proj[1] + y_line[0])\n",
        "            # class2    \n",
        "            elif y[i] == self.classes[1]:\n",
        "                class2_x.append(X[i][0])\n",
        "                class2_y.append(X[i][1])\n",
        "                # project data\n",
        "                proj2_x.append(proj[0] + x_line[0])\n",
        "                proj2_y.append(proj[1] + y_line[0])\n",
        "            elif y[i] == self.classes[2]:\n",
        "                class3_x.append(X[i][0])\n",
        "                class3_y.append(X[i][1])\n",
        "                # project data\n",
        "                proj3_x.append(proj[0] + x_line[0])\n",
        "                proj3_y.append(proj[1] + y_line[0])\n",
        "\n",
        "        #plt.figure(figsize=(6, 6))\n",
        "        plt.title(f\"Projection line: w={slope}, b={intercept}\")\n",
        "        plt.plot(x_line, y_line)\n",
        "        plt.scatter(class1_x, class1_y, s=3, color='red')\n",
        "        plt.scatter(class2_x, class2_y, s=3, color='blue')\n",
        "        plt.scatter(class3_x, class3_y, s=3, color='green')\n",
        "        plt.scatter(proj1_x, proj1_y, s=3, color='red')\n",
        "        plt.scatter(proj2_x, proj2_y, s=3, color='blue')\n",
        "        plt.scatter(proj3_x, proj3_y, s=3, color='green')\n",
        "        plt.plot([class1_x, proj1_x], [class1_y, proj1_y], color='red', lw=0.1)     #lightsteelblue\n",
        "        plt.plot([class2_x, proj2_x], [class2_y, proj2_y], color='blue', lw=0.1)\n",
        "        plt.plot([class3_x, proj3_x], [class3_y, proj3_y], color='green', lw=0.1)\n",
        "        plt.show()\n",
        "        pass\n",
        "\n",
        "    def accuracy_score(self, y, y_pred):\n",
        "        sum = np.sum(y_pred == y)\n",
        "        return sum/self.n_samples"
      ],
      "metadata": {
        "id": "0FQ7Z945rnF5"
      },
      "execution_count": null,
      "outputs": []
    },
    {
      "cell_type": "code",
      "source": [
        "class MultiClassLogisticRegression:\n",
        "    \n",
        "    def __init__(self):\n",
        "        \"\"\"\n",
        "            You can add/change any variables/methods to meet your need.\n",
        "        \"\"\"\n",
        "        self.epoch = []\n",
        "        self.train_loss = []\n",
        "        self.weights = None\n",
        "        self.n_samples = None\n",
        "        self.n_features = None\n",
        "        self.classes = None\n",
        "\n",
        "    def fit(self, X, y, batch_size=16, lr=0.001, epoch=100):\n",
        "        y_onehot = pd.get_dummies(y).to_numpy()\n",
        "        self.n_samples, self.n_features = X.shape\n",
        "        self.weights = np.zeros((X.shape[1], y_onehot.shape[1]))\n",
        "        self.classes = np.unique(y).reshape(3,1)\n",
        "        \n",
        "        for i in range(epoch):\n",
        "            self.weights -= lr* self.gradient(X, y_onehot)\n",
        "            Z = -np.dot(X, self.weights) \n",
        "            y_probs = self.softmax(Z)\n",
        "            y_probs = np.max(y_probs, axis=1)\n",
        "      \n",
        "            self.train_loss.append(self.cross_entropy(y, y_probs))\n",
        "            self.epoch.append(i)\n",
        "        pass\n",
        "\n",
        "    \n",
        "    def gradient(self, X, y):\n",
        "        \"\"\"\n",
        "        y: onehot encoded \n",
        "        \"\"\"\n",
        "        Z = -np.dot(X, self.weights)\n",
        "        y_pred = self.softmax(Z)  \n",
        "        gradient = 1/self.n_samples * (np.dot(X.T, (y - y_pred)))+ 2 * 0.01 * self.weights #L2 norm\n",
        "        return gradient\n",
        "\n",
        "    def predict(self, X):\n",
        "        Z = -np.dot(X, self.weights)\n",
        "        y_probs = self.softmax(Z)  \n",
        "        return np.argmax(y_probs, axis=1)\n",
        "        \n",
        "\n",
        "    def evaluate(self, X, y):\n",
        "        y_pred = self.predict(X)\n",
        "        return self.accuracy_score(y, y_pred)\n",
        "        \n",
        "    def softmax(self, z):\n",
        "        a = np.exp(z)/np.sum(np.exp(z),axis=1).reshape(-1,1)\n",
        "        return a\n",
        "\n",
        "    def cross_entropy(self, y, probs):\n",
        "        return -1 * np.mean(y * np.log(probs))\n",
        "    \n",
        "    def accuracy_score(self, y, y_pred):\n",
        "        sum = np.sum(y_pred == y)\n",
        "        return sum/self.n_samples\n",
        "\n",
        "    def plot_curve(self):\n",
        "        plt.title(\"Training Loss\")\n",
        "        plt.xlabel(\"Epoch\")\n",
        "        plt.ylabel(\"CE loss\")\n",
        "        plt.plot(self.epoch, self.train_loss, label=\"Train CE loss\")\n",
        "        plt.legend(loc=\"upper right\")\n",
        "        plt.show() \n",
        "    \n",
        "    def show_confusion_matrix(self, X, y):\n",
        "        y_pred = self.predict(X)\n",
        "        confusion_matrix = pd.crosstab(y, y_pred).to_numpy()\n",
        "        plt.imshow(confusion_matrix, interpolation='nearest', cmap=plt.cm.Blues)\n",
        "        plt.title('Confusion matrix')\n",
        "        plt.colorbar()\n",
        "        tick_marks = np.arange(len(self.classes))\n",
        "        plt.xticks(tick_marks, self.classes, rotation=45)\n",
        "        plt.yticks(tick_marks, self.classes)\n",
        "        plt.ylim(len(self.classes) - 0.5, -0.5)\n",
        "        fmt = 'd'\n",
        "        for i in range(confusion_matrix.shape[0]):\n",
        "            for j in range(confusion_matrix.shape[1]):\n",
        "                plt.text(j, i, format(confusion_matrix[i, j], fmt),\n",
        "                  horizontalalignment=\"center\" )\n",
        "        plt.tight_layout()\n",
        "        plt.ylabel('True label')\n",
        "        plt.xlabel('Predicted label')\n",
        "        plt.show()"
      ],
      "metadata": {
        "id": "P-zKG_ymzvBo"
      },
      "execution_count": null,
      "outputs": []
    },
    {
      "cell_type": "markdown",
      "source": [
        "# Prepare data for Q1 ~ Q12"
      ],
      "metadata": {
        "id": "tW-wMhSw8fT8"
      }
    },
    {
      "cell_type": "code",
      "source": [
        "df_train = pd.DataFrame(pd.read_csv(\"./PR_HW2_blob_train.csv\"))\n",
        "df_test  = pd.DataFrame(pd.read_csv(\"./PR_HW2_blob_test.csv\"))"
      ],
      "metadata": {
        "id": "k43aGfaQ7TsP"
      },
      "execution_count": null,
      "outputs": []
    },
    {
      "cell_type": "code",
      "source": [
        "X_train = df_train[['Feature1', 'Feature2']].to_numpy()\n",
        "y_train = df_train[['Target']].to_numpy().ravel()\n",
        "\n",
        "X_test = df_test[['Feature1', 'Feature2']].to_numpy()\n",
        "y_test = df_test[['Target']].to_numpy().ravel()\n",
        "\n",
        "print(\"X_train\", X_train.shape)\n",
        "print(\"y_train\", y_train.shape)\n",
        "print(\"X_test\",  X_test.shape)\n",
        "print(\"y_test\",  y_test.shape)"
      ],
      "metadata": {
        "id": "2RqHvQCu76Yn",
        "colab": {
          "base_uri": "https://localhost:8080/"
        },
        "outputId": "31d6b30e-506a-4f9a-ca82-ebff6cd02783"
      },
      "execution_count": null,
      "outputs": [
        {
          "output_type": "stream",
          "name": "stdout",
          "text": [
            "X_train (1000, 2)\n",
            "y_train (1000,)\n",
            "X_test (1000, 2)\n",
            "y_test (1000,)\n"
          ]
        }
      ]
    },
    {
      "cell_type": "markdown",
      "source": [
        "# MultiClass Logistic Regression"
      ],
      "metadata": {
        "id": "E_HKrHzE8_Sy"
      }
    },
    {
      "cell_type": "code",
      "source": [
        "# For Q1\n",
        "lr = 0.05\n",
        "batch_size = 16\n",
        "epoch = 100\n",
        "\n",
        "logistic_reg = MultiClassLogisticRegression()\n",
        "logistic_reg.fit(X_train, y_train, lr=lr, batch_size=batch_size, epoch=epoch)"
      ],
      "metadata": {
        "id": "xN1uUlEC9FqA"
      },
      "execution_count": null,
      "outputs": []
    },
    {
      "cell_type": "code",
      "source": [
        "# For Q2\n",
        "print('Training acc: ', logistic_reg.evaluate(X_train, y_train))"
      ],
      "metadata": {
        "id": "R_Y8kIlQ9Jcz",
        "colab": {
          "base_uri": "https://localhost:8080/"
        },
        "outputId": "4f8c537e-7d5f-4b67-8943-60f763889805"
      },
      "execution_count": null,
      "outputs": [
        {
          "output_type": "stream",
          "name": "stdout",
          "text": [
            "Training acc:  0.897\n"
          ]
        }
      ]
    },
    {
      "cell_type": "code",
      "source": [
        "# For Q3\n",
        "print('Testing acc: ', logistic_reg.evaluate(X_test, y_test))"
      ],
      "metadata": {
        "id": "TzqioRVD9Jgn",
        "colab": {
          "base_uri": "https://localhost:8080/"
        },
        "outputId": "878939b3-e4f0-4220-fa5d-a7198cec640f"
      },
      "execution_count": null,
      "outputs": [
        {
          "output_type": "stream",
          "name": "stdout",
          "text": [
            "Testing acc:  0.885\n"
          ]
        }
      ]
    },
    {
      "cell_type": "code",
      "source": [
        "# For Q4\n",
        "logistic_reg.plot_curve()"
      ],
      "metadata": {
        "id": "B_BSVWmM9JkX",
        "colab": {
          "base_uri": "https://localhost:8080/",
          "height": 295
        },
        "outputId": "eb1bf55e-3880-4d07-e4a6-25dcac494522"
      },
      "execution_count": null,
      "outputs": [
        {
          "output_type": "display_data",
          "data": {
            "text/plain": [
              "<Figure size 432x288 with 1 Axes>"
            ],
            "image/png": "[encoded data removed]"
          },
          "metadata": {
            "needs_background": "light"
          }
        }
      ]
    },
    {
      "cell_type": "code",
      "source": [
        "# For Q5\n",
        "logistic_reg.show_confusion_matrix(X_test, y_test)"
      ],
      "metadata": {
        "id": "r8tAlAPc9JoP",
        "colab": {
          "base_uri": "https://localhost:8080/",
          "height": 366
        },
        "outputId": "5c32659d-5a2b-4396-c080-8de57f06d52c"
      },
      "execution_count": null,
      "outputs": [
        {
          "output_type": "stream",
          "name": "stderr",
          "text": [
            "/usr/local/lib/python3.9/dist-packages/matplotlib/text.py:1279: FutureWarning: elementwise comparison failed; returning scalar instead, but in the future will perform elementwise comparison\n",
            "  if s != self._text:\n"
          ]
        },
        {
          "output_type": "display_data",
          "data": {
            "text/plain": [
              "<Figure size 432x288 with 2 Axes>"
            ],
            "image/png": "[encoded data removed]"
          },
          "metadata": {
            "needs_background": "light"
          }
        }
      ]
    },
    {
      "cell_type": "markdown",
      "source": [
        "# Fisher's Linear Discriminant Analysis"
      ],
      "metadata": {
        "id": "njoLZK84-sv3"
      }
    },
    {
      "cell_type": "code",
      "source": [
        "fld = FLD()\n",
        "\n",
        "fld.fit(X_train, y_train)"
      ],
      "metadata": {
        "id": "i-uhvrbe2mNe"
      },
      "execution_count": null,
      "outputs": []
    },
    {
      "cell_type": "code",
      "source": [
        "# For Q6\n",
        "print(\"Class mean vector: \", fld.mean_vectors)"
      ],
      "metadata": {
        "id": "t95-qsEl2nl_",
        "colab": {
          "base_uri": "https://localhost:8080/"
        },
        "outputId": "08e5e3c7-a50f-49a5-ae05-3c1779f922d8"
      },
      "execution_count": null,
      "outputs": [
        {
          "output_type": "stream",
          "name": "stdout",
          "text": [
            "Class mean vector:  [array([-4.17505764,  6.35526804]), array([-9.43385176, -4.87830741]), array([-2.54454008,  7.53144179])]\n"
          ]
        }
      ]
    },
    {
      "cell_type": "code",
      "source": [
        "# For Q7\n",
        "print(\"Within-class scatter matrix SW: \", fld.sw)"
      ],
      "metadata": {
        "id": "czRrdHxV2olM",
        "colab": {
          "base_uri": "https://localhost:8080/"
        },
        "outputId": "cf990232-0560-4042-d6b6-bea5da5ce01f"
      },
      "execution_count": null,
      "outputs": [
        {
          "output_type": "stream",
          "name": "stdout",
          "text": [
            "Within-class scatter matrix SW:  [[1052.70745046  -12.5828441 ]\n",
            " [ -12.5828441   971.29686189]]\n"
          ]
        }
      ]
    },
    {
      "cell_type": "code",
      "source": [
        "# For Q8\n",
        "print(\"Between-class scatter matrix SB: \", fld.sb)"
      ],
      "metadata": {
        "id": "oETHjp4Y2oqg",
        "colab": {
          "base_uri": "https://localhost:8080/"
        },
        "outputId": "e47883f3-d43c-47d5-bde9-2212352c16f5"
      },
      "execution_count": null,
      "outputs": [
        {
          "output_type": "stream",
          "name": "stdout",
          "text": [
            "Between-class scatter matrix SB:  [[ 8689.12907035 16344.86572983]\n",
            " [16344.86572983 31372.93949414]]\n"
          ]
        }
      ]
    },
    {
      "cell_type": "code",
      "source": [
        "# For Q9\n",
        "print(\"W: \", fld.w)"
      ],
      "metadata": {
        "id": "dRytOEMl2otd",
        "colab": {
          "base_uri": "https://localhost:8080/"
        },
        "outputId": "41dbbb3a-1125-44d5-c470-bf50b0c9831a"
      },
      "execution_count": null,
      "outputs": [
        {
          "output_type": "stream",
          "name": "stdout",
          "text": [
            "W:  [[-0.44115384]\n",
            " [-0.8974315 ]]\n"
          ]
        }
      ]
    },
    {
      "cell_type": "code",
      "source": [
        "# For Q10\n",
        "y_pred = fld.predict_using_class_mean(X_train, y_train, X_test)\n",
        "print(\"FLD using class mean, accuracy: \", fld.accuracy_score(y_test, y_pred))\n",
        "\n",
        "fld.show_confusion_matrix(y_test, y_pred)"
      ],
      "metadata": {
        "id": "Q9XMtITV2owM",
        "colab": {
          "base_uri": "https://localhost:8080/",
          "height": 328
        },
        "outputId": "cadfc691-0b28-4c67-c955-97d953a83a61"
      },
      "execution_count": null,
      "outputs": [
        {
          "output_type": "stream",
          "name": "stdout",
          "text": [
            "FLD using class mean, accuracy:  0.861\n"
          ]
        },
        {
          "output_type": "display_data",
          "data": {
            "text/plain": [
              "<Figure size 432x288 with 2 Axes>"
            ],
            "image/png": "[encoded data removed]"
          },
          "metadata": {
            "needs_background": "light"
          }
        }
      ]
    },
    {
      "cell_type": "code",
      "source": [
        "# For Q11\n",
        "y_pred_k1 = fld.predict_using_knn(X_train, y_train, X_test, k=1)\n",
        "print(\"FLD using knn (k=1), accuracy: \", fld.accuracy_score(y_test, y_pred_k1))\n",
        "\n",
        "y_pred_k2 = fld.predict_using_knn(X_train, y_train, X_test, k=2)\n",
        "print(\"FLD using knn (k=2), accuracy: \", fld.accuracy_score(y_test, y_pred_k2))\n",
        "\n",
        "y_pred_k3 = fld.predict_using_knn(X_train, y_train, X_test, k=3)\n",
        "print(\"FLD using knn (k=3), accuracy: \", fld.accuracy_score(y_test, y_pred_k3))\n",
        "\n",
        "y_pred_k4 = fld.predict_using_knn(X_train, y_train, X_test, k=4)\n",
        "print(\"FLD using knn (k=4), accuracy: \", fld.accuracy_score(y_test, y_pred_k4))\n",
        "\n",
        "y_pred_k5 = fld.predict_using_knn(X_train, y_train, X_test, k=5)\n",
        "print(\"FLD using knn (k=5), accuracy: \", fld.accuracy_score(y_test, y_pred_k5))"
      ],
      "metadata": {
        "id": "7mmAB2BZ2oy5",
        "colab": {
          "base_uri": "https://localhost:8080/"
        },
        "outputId": "a88af54c-4c31-48df-89da-6aa64c2343ec"
      },
      "execution_count": null,
      "outputs": [
        {
          "output_type": "stream",
          "name": "stdout",
          "text": [
            "FLD using knn (k=1), accuracy:  0.822\n",
            "FLD using knn (k=2), accuracy:  0.822\n",
            "FLD using knn (k=3), accuracy:  0.843\n",
            "FLD using knn (k=4), accuracy:  0.838\n",
            "FLD using knn (k=5), accuracy:  0.862\n"
          ]
        }
      ]
    },
    {
      "cell_type": "code",
      "source": [
        "# For Q12, using only training data\n",
        "fld.plot_projection(X_train, y_train)"
      ],
      "metadata": {
        "id": "uAaGRQkg2o1e",
        "colab": {
          "base_uri": "https://localhost:8080/",
          "height": 336
        },
        "outputId": "c92ec874-316c-46aa-dc56-728369afc664"
      },
      "execution_count": null,
      "outputs": [
        {
          "output_type": "stream",
          "name": "stderr",
          "text": [
            "/usr/local/lib/python3.9/dist-packages/numpy/core/shape_base.py:65: VisibleDeprecationWarning: Creating an ndarray from ragged nested sequences (which is a list-or-tuple of lists-or-tuples-or ndarrays with different lengths or shapes) is deprecated. If you meant to do this, you must specify 'dtype=object' when creating the ndarray.\n",
            "  ary = asanyarray(ary)\n"
          ]
        },
        {
          "output_type": "display_data",
          "data": {
            "text/plain": [
              "<Figure size 432x288 with 1 Axes>"
            ],
            "image/png": "[encoded data removed]"
          },
          "metadata": {
            "needs_background": "light"
          }
        }
      ]
    },
    {
      "cell_type": "markdown",
      "source": [
        "# Train your own model on provided dataset.\n",
        "You can only using 1) **Fisher's Linear Discriminant** or 2) **Logistic Regression** that you have implemented above."
      ],
      "metadata": {
        "id": "PDeFV2_uAoL_"
      }
    },
    {
      "cell_type": "code",
      "source": [
        "df_train = pd.DataFrame(pd.read_csv(\"./PR_HW2_train.csv\"))\n",
        "df_val   = pd.DataFrame(pd.read_csv(\"./PR_HW2_val.csv\"))\n",
        "df_test  = pd.DataFrame(pd.read_csv(\"./PR_HW2_test.csv\"))"
      ],
      "metadata": {
        "id": "0GkkThFyBTN3"
      },
      "execution_count": null,
      "outputs": []
    },
    {
      "cell_type": "code",
      "source": [
        "df_train.head()"
      ],
      "metadata": {
        "id": "6Si9iL-0BWQS",
        "colab": {
          "base_uri": "https://localhost:8080/",
          "height": 206
        },
        "outputId": "f2df3496-f4b3-481b-883e-926222c9809f"
      },
      "execution_count": null,
      "outputs": [
        {
          "output_type": "execute_result",
          "data": {
            "text/plain": [
              "   Feature1  Feature2  Feature3  Feature4  Target\n",
              "0   0.00668   0.00192     0.682     0.996     2.0\n",
              "1   0.00680   0.00106     0.503     0.996     1.0\n",
              "2   0.00742   0.00106     0.482     0.991     1.0\n",
              "3   0.00685   0.00178     0.650     0.998     2.0\n",
              "4   0.00680   0.00163     0.623     0.996     2.0"
            ],
            "text/html": [
              "\n",
              "  <div id=\"df-0de18cce-d288-44cd-b5ec-74588886f2a1\">\n",
              "    <div class=\"colab-df-container\">\n",
              "      <div>\n",
              "<style scoped>\n",
              "    .dataframe tbody tr th:only-of-type {\n",
              "        vertical-align: middle;\n",
              "    }\n",
              "\n",
              "    .dataframe tbody tr th {\n",
              "        vertical-align: top;\n",
              "    }\n",
              "\n",
              "    .dataframe thead th {\n",
              "        text-align: right;\n",
              "    }\n",
              "</style>\n",
              "<table border=\"1\" class=\"dataframe\">\n",
              "  <thead>\n",
              "    <tr style=\"text-align: right;\">\n",
              "      <th></th>\n",
              "      <th>Feature1</th>\n",
              "      <th>Feature2</th>\n",
              "      <th>Feature3</th>\n",
              "      <th>Feature4</th>\n",
              "      <th>Target</th>\n",
              "    </tr>\n",
              "  </thead>\n",
              "  <tbody>\n",
              "    <tr>\n",
              "      <th>0</th>\n",
              "      <td>0.00668</td>\n",
              "      <td>0.00192</td>\n",
              "      <td>0.682</td>\n",
              "      <td>0.996</td>\n",
              "      <td>2.0</td>\n",
              "    </tr>\n",
              "    <tr>\n",
              "      <th>1</th>\n",
              "      <td>0.00680</td>\n",
              "      <td>0.00106</td>\n",
              "      <td>0.503</td>\n",
              "      <td>0.996</td>\n",
              "      <td>1.0</td>\n",
              "    </tr>\n",
              "    <tr>\n",
              "      <th>2</th>\n",
              "      <td>0.00742</td>\n",
              "      <td>0.00106</td>\n",
              "      <td>0.482</td>\n",
              "      <td>0.991</td>\n",
              "      <td>1.0</td>\n",
              "    </tr>\n",
              "    <tr>\n",
              "      <th>3</th>\n",
              "      <td>0.00685</td>\n",
              "      <td>0.00178</td>\n",
              "      <td>0.650</td>\n",
              "      <td>0.998</td>\n",
              "      <td>2.0</td>\n",
              "    </tr>\n",
              "    <tr>\n",
              "      <th>4</th>\n",
              "      <td>0.00680</td>\n",
              "      <td>0.00163</td>\n",
              "      <td>0.623</td>\n",
              "      <td>0.996</td>\n",
              "      <td>2.0</td>\n",
              "    </tr>\n",
              "  </tbody>\n",
              "</table>\n",
              "</div>\n",
              "      <button class=\"colab-df-convert\" onclick=\"convertToInteractive('df-0de18cce-d288-44cd-b5ec-74588886f2a1')\"\n",
              "              title=\"Convert this dataframe to an interactive table.\"\n",
              "              style=\"display:none;\">\n",
              "        \n",
              "  <svg xmlns=\"http://www.w3.org/2000/svg\" height=\"24px\"viewBox=\"0 0 24 24\"\n",
              "       width=\"24px\">\n",
              "    <path d=\"M0 0h24v24H0V0z\" fill=\"none\"/>\n",
              "    <path d=\"M18.56 5.44l.94 2.06.94-2.06 2.06-.94-2.06-.94-.94-2.06-.94 2.06-2.06.94zm-11 1L8.5 8.5l.94-2.06 2.06-.94-2.06-.94L8.5 2.5l-.94 2.06-2.06.94zm10 10l.94 2.06.94-2.06 2.06-.94-2.06-.94-.94-2.06-.94 2.06-2.06.94z\"/><path d=\"M17.41 7.96l-1.37-1.37c-.4-.4-.92-.59-1.43-.59-.52 0-1.04.2-1.43.59L10.3 9.45l-7.72 7.72c-.78.78-.78 2.05 0 2.83L4 21.41c.39.39.9.59 1.41.59.51 0 1.02-.2 1.41-.59l7.78-7.78 2.81-2.81c.8-.78.8-2.07 0-2.86zM5.41 20L4 18.59l7.72-7.72 1.47 1.35L5.41 20z\"/>\n",
              "  </svg>\n",
              "      </button>\n",
              "      \n",
              "  <style>\n",
              "    .colab-df-container {\n",
              "      display:flex;\n",
              "      flex-wrap:wrap;\n",
              "      gap: 12px;\n",
              "    }\n",
              "\n",
              "    .colab-df-convert {\n",
              "      background-color: #E8F0FE;\n",
              "      border: none;\n",
              "      border-radius: 50%;\n",
              "      cursor: pointer;\n",
              "      display: none;\n",
              "      fill: #1967D2;\n",
              "      height: 32px;\n",
              "      padding: 0 0 0 0;\n",
              "      width: 32px;\n",
              "    }\n",
              "\n",
              "    .colab-df-convert:hover {\n",
              "      background-color: #E2EBFA;\n",
              "      box-shadow: 0px 1px 2px rgba(60, 64, 67, 0.3), 0px 1px 3px 1px rgba(60, 64, 67, 0.15);\n",
              "      fill: #174EA6;\n",
              "    }\n",
              "\n",
              "    [theme=dark] .colab-df-convert {\n",
              "      background-color: #3B4455;\n",
              "      fill: #D2E3FC;\n",
              "    }\n",
              "\n",
              "    [theme=dark] .colab-df-convert:hover {\n",
              "      background-color: #434B5C;\n",
              "      box-shadow: 0px 1px 3px 1px rgba(0, 0, 0, 0.15);\n",
              "      filter: drop-shadow(0px 1px 2px rgba(0, 0, 0, 0.3));\n",
              "      fill: #FFFFFF;\n",
              "    }\n",
              "  </style>\n",
              "\n",
              "      <script>\n",
              "        const buttonEl =\n",
              "          document.querySelector('#df-0de18cce-d288-44cd-b5ec-74588886f2a1 button.colab-df-convert');\n",
              "        buttonEl.style.display =\n",
              "          google.colab.kernel.accessAllowed ? 'block' : 'none';\n",
              "\n",
              "        async function convertToInteractive(key) {\n",
              "          const element = document.querySelector('#df-0de18cce-d288-44cd-b5ec-74588886f2a1');\n",
              "          const dataTable =\n",
              "            await google.colab.kernel.invokeFunction('convertToInteractive',\n",
              "                                                     [key], {});\n",
              "          if (!dataTable) return;\n",
              "\n",
              "          const docLinkHtml = 'Like what you see? Visit the ' +\n",
              "            '<a target=\"_blank\" href=https://colab.research.google.com/notebooks/data_table.ipynb>data table notebook</a>'\n",
              "            + ' to learn more about interactive tables.';\n",
              "          element.innerHTML = '';\n",
              "          dataTable['output_type'] = 'display_data';\n",
              "          await google.colab.output.renderOutput(dataTable, element);\n",
              "          const docLink = document.createElement('div');\n",
              "          docLink.innerHTML = docLinkHtml;\n",
              "          element.appendChild(docLink);\n",
              "        }\n",
              "      </script>\n",
              "    </div>\n",
              "  </div>\n",
              "  "
            ]
          },
          "metadata": {},
          "execution_count": 20
        }
      ]
    },
    {
      "cell_type": "code",
      "source": [
        "df_test.head()"
      ],
      "metadata": {
        "id": "qw1B1bIkBdN4",
        "colab": {
          "base_uri": "https://localhost:8080/",
          "height": 206
        },
        "outputId": "1b4327ed-9ce8-4dca-eb05-2b5d21b9a053"
      },
      "execution_count": null,
      "outputs": [
        {
          "output_type": "execute_result",
          "data": {
            "text/plain": [
              "   Feature1  Feature2  Feature3  Feature4  Target\n",
              "0   0.00699  0.000877     0.451     0.994     NaN\n",
              "1   0.00736  0.001370     0.549     0.998     NaN\n",
              "2   0.00687  0.001420     0.580     0.992     NaN\n",
              "3   0.00752  0.002520     0.737     0.996     NaN\n",
              "4   0.00685  0.000910     0.464     0.992     NaN"
            ],
            "text/html": [
              "\n",
              "  <div id=\"df-1aca72c2-cb15-4a89-a2ca-d0a2690b0f42\">\n",
              "    <div class=\"colab-df-container\">\n",
              "      <div>\n",
              "<style scoped>\n",
              "    .dataframe tbody tr th:only-of-type {\n",
              "        vertical-align: middle;\n",
              "    }\n",
              "\n",
              "    .dataframe tbody tr th {\n",
              "        vertical-align: top;\n",
              "    }\n",
              "\n",
              "    .dataframe thead th {\n",
              "        text-align: right;\n",
              "    }\n",
              "</style>\n",
              "<table border=\"1\" class=\"dataframe\">\n",
              "  <thead>\n",
              "    <tr style=\"text-align: right;\">\n",
              "      <th></th>\n",
              "      <th>Feature1</th>\n",
              "      <th>Feature2</th>\n",
              "      <th>Feature3</th>\n",
              "      <th>Feature4</th>\n",
              "      <th>Target</th>\n",
              "    </tr>\n",
              "  </thead>\n",
              "  <tbody>\n",
              "    <tr>\n",
              "      <th>0</th>\n",
              "      <td>0.00699</td>\n",
              "      <td>0.000877</td>\n",
              "      <td>0.451</td>\n",
              "      <td>0.994</td>\n",
              "      <td>NaN</td>\n",
              "    </tr>\n",
              "    <tr>\n",
              "      <th>1</th>\n",
              "      <td>0.00736</td>\n",
              "      <td>0.001370</td>\n",
              "      <td>0.549</td>\n",
              "      <td>0.998</td>\n",
              "      <td>NaN</td>\n",
              "    </tr>\n",
              "    <tr>\n",
              "      <th>2</th>\n",
              "      <td>0.00687</td>\n",
              "      <td>0.001420</td>\n",
              "      <td>0.580</td>\n",
              "      <td>0.992</td>\n",
              "      <td>NaN</td>\n",
              "    </tr>\n",
              "    <tr>\n",
              "      <th>3</th>\n",
              "      <td>0.00752</td>\n",
              "      <td>0.002520</td>\n",
              "      <td>0.737</td>\n",
              "      <td>0.996</td>\n",
              "      <td>NaN</td>\n",
              "    </tr>\n",
              "    <tr>\n",
              "      <th>4</th>\n",
              "      <td>0.00685</td>\n",
              "      <td>0.000910</td>\n",
              "      <td>0.464</td>\n",
              "      <td>0.992</td>\n",
              "      <td>NaN</td>\n",
              "    </tr>\n",
              "  </tbody>\n",
              "</table>\n",
              "</div>\n",
              "      <button class=\"colab-df-convert\" onclick=\"convertToInteractive('df-1aca72c2-cb15-4a89-a2ca-d0a2690b0f42')\"\n",
              "              title=\"Convert this dataframe to an interactive table.\"\n",
              "              style=\"display:none;\">\n",
              "        \n",
              "  <svg xmlns=\"http://www.w3.org/2000/svg\" height=\"24px\"viewBox=\"0 0 24 24\"\n",
              "       width=\"24px\">\n",
              "    <path d=\"M0 0h24v24H0V0z\" fill=\"none\"/>\n",
              "    <path d=\"M18.56 5.44l.94 2.06.94-2.06 2.06-.94-2.06-.94-.94-2.06-.94 2.06-2.06.94zm-11 1L8.5 8.5l.94-2.06 2.06-.94-2.06-.94L8.5 2.5l-.94 2.06-2.06.94zm10 10l.94 2.06.94-2.06 2.06-.94-2.06-.94-.94-2.06-.94 2.06-2.06.94z\"/><path d=\"M17.41 7.96l-1.37-1.37c-.4-.4-.92-.59-1.43-.59-.52 0-1.04.2-1.43.59L10.3 9.45l-7.72 7.72c-.78.78-.78 2.05 0 2.83L4 21.41c.39.39.9.59 1.41.59.51 0 1.02-.2 1.41-.59l7.78-7.78 2.81-2.81c.8-.78.8-2.07 0-2.86zM5.41 20L4 18.59l7.72-7.72 1.47 1.35L5.41 20z\"/>\n",
              "  </svg>\n",
              "      </button>\n",
              "      \n",
              "  <style>\n",
              "    .colab-df-container {\n",
              "      display:flex;\n",
              "      flex-wrap:wrap;\n",
              "      gap: 12px;\n",
              "    }\n",
              "\n",
              "    .colab-df-convert {\n",
              "      background-color: #E8F0FE;\n",
              "      border: none;\n",
              "      border-radius: 50%;\n",
              "      cursor: pointer;\n",
              "      display: none;\n",
              "      fill: #1967D2;\n",
              "      height: 32px;\n",
              "      padding: 0 0 0 0;\n",
              "      width: 32px;\n",
              "    }\n",
              "\n",
              "    .colab-df-convert:hover {\n",
              "      background-color: #E2EBFA;\n",
              "      box-shadow: 0px 1px 2px rgba(60, 64, 67, 0.3), 0px 1px 3px 1px rgba(60, 64, 67, 0.15);\n",
              "      fill: #174EA6;\n",
              "    }\n",
              "\n",
              "    [theme=dark] .colab-df-convert {\n",
              "      background-color: #3B4455;\n",
              "      fill: #D2E3FC;\n",
              "    }\n",
              "\n",
              "    [theme=dark] .colab-df-convert:hover {\n",
              "      background-color: #434B5C;\n",
              "      box-shadow: 0px 1px 3px 1px rgba(0, 0, 0, 0.15);\n",
              "      filter: drop-shadow(0px 1px 2px rgba(0, 0, 0, 0.3));\n",
              "      fill: #FFFFFF;\n",
              "    }\n",
              "  </style>\n",
              "\n",
              "      <script>\n",
              "        const buttonEl =\n",
              "          document.querySelector('#df-1aca72c2-cb15-4a89-a2ca-d0a2690b0f42 button.colab-df-convert');\n",
              "        buttonEl.style.display =\n",
              "          google.colab.kernel.accessAllowed ? 'block' : 'none';\n",
              "\n",
              "        async function convertToInteractive(key) {\n",
              "          const element = document.querySelector('#df-1aca72c2-cb15-4a89-a2ca-d0a2690b0f42');\n",
              "          const dataTable =\n",
              "            await google.colab.kernel.invokeFunction('convertToInteractive',\n",
              "                                                     [key], {});\n",
              "          if (!dataTable) return;\n",
              "\n",
              "          const docLinkHtml = 'Like what you see? Visit the ' +\n",
              "            '<a target=\"_blank\" href=https://colab.research.google.com/notebooks/data_table.ipynb>data table notebook</a>'\n",
              "            + ' to learn more about interactive tables.';\n",
              "          element.innerHTML = '';\n",
              "          dataTable['output_type'] = 'display_data';\n",
              "          await google.colab.output.renderOutput(dataTable, element);\n",
              "          const docLink = document.createElement('div');\n",
              "          docLink.innerHTML = docLinkHtml;\n",
              "          element.appendChild(docLink);\n",
              "        }\n",
              "      </script>\n",
              "    </div>\n",
              "  </div>\n",
              "  "
            ]
          },
          "metadata": {},
          "execution_count": 21
        }
      ]
    },
    {
      "cell_type": "code",
      "source": [
        "# Data processing\n",
        "\n",
        "# Refer to section \"Prepare data for Q1 ~ Q12\"\n",
        "fig, axes = plt.subplots(1, 5, figsize=(30, 10))\n",
        "axes[0].hist(df_train['Feature1'])\n",
        "axes[0].set_title(\"Feature1\")\n",
        "axes[1].hist(df_train['Feature2'])\n",
        "axes[1].set_title(\"Feature2\")\n",
        "axes[2].hist(df_train['Feature3'])\n",
        "axes[2].set_title(\"Feature3\")\n",
        "axes[3].hist(df_train['Feature4'])\n",
        "axes[3].set_title(\"Feature4\")\n",
        "axes[4].hist(df_train['Target'])\n",
        "axes[4].set_title(\"Target\")\n",
        "plt.show()"
      ],
      "metadata": {
        "id": "tDeQjZsuDagp",
        "colab": {
          "base_uri": "https://localhost:8080/",
          "height": 416
        },
        "outputId": "2e15936a-1b70-4e84-a530-ed999e470d8c"
      },
      "execution_count": null,
      "outputs": [
        {
          "output_type": "display_data",
          "data": {
            "text/plain": [
              "<Figure size 2160x720 with 5 Axes>"
            ],
            "image/png": "[encoded data removed]"
          },
          "metadata": {
            "needs_background": "light"
          }
        }
      ]
    },
    {
      "cell_type": "markdown",
      "source": [
        "### Oversampling"
      ],
      "metadata": {
        "id": "2Jrcg1ru0aTE"
      }
    },
    {
      "cell_type": "code",
      "source": [
        "def oversampling(X):\n",
        "    classes = np.unique(X['Target']).astype(int)\n",
        "    count = (X['Target'].value_counts()).sort_index()\n",
        "    max_num = max(count)\n",
        "    sample = abs(count - max_num)\n",
        "    X_oversample = X\n",
        "\n",
        "    for c in classes:\n",
        "        if sample[c] == 0: continue\n",
        "        if sample[c] > count[c]:\n",
        "          part1 = sample[c] - count[c]\n",
        "          part2 = count[c]\n",
        "          random1 = np.random.randint(0, count[c]-1, size=part1)\n",
        "          random2 = np.random.randint(0, count[c]-1, size=part2)\n",
        "          X_hat = X[X['Target'] == c].reset_index(drop=True) \n",
        "          new_data = X_hat.iloc[random1].append(X_hat.iloc[random2])   \n",
        "        else:\n",
        "          random = np.random.randint(0, sample[c], size=sample[c])\n",
        "          X_hat = X[X['Target'] == c].reset_index(drop=True)  \n",
        "          new_data = X_hat.iloc[random]  \n",
        "          \n",
        "        X_oversample = X_oversample.append(new_data, ignore_index=True)\n",
        "        \n",
        "    return X_oversample"
      ],
      "metadata": {
        "id": "viY-1xfk0dPa"
      },
      "execution_count": null,
      "outputs": []
    },
    {
      "cell_type": "code",
      "source": [
        "def SMOTE(X, y, k, num_synthetic):\n",
        "    n_classes = len(np.unique(y))\n",
        "    n_samples, n_features = X.shape\n",
        "    synthetic_X = np.zeros((n_classes * num_synthetic, n_features))\n",
        "    synthetic_y = np.zeros(n_classes * num_synthetic, dtype=int)\n",
        "    \n",
        "    # For each class\n",
        "    for c in np.unique(y):\n",
        "        # Get all samples of the current class\n",
        "        c = int(c)\n",
        "        X_c = X[y == c]\n",
        "        n_c = X_c.shape[0]\n",
        "        # Get the k nearest neighbors for each sample in the current class\n",
        "        dists = np.sqrt(np.sum((X_c[:, np.newaxis, :] - X_c) ** 2, axis=2))\n",
        "        knn_indices = np.argsort(dists, axis=1)[:, 1:k+1]\n",
        "        # Generate synthetic samples\n",
        "        for i in range(num_synthetic):\n",
        "            j = np.random.randint(0, n_c)\n",
        "            # Choose a random nearest neighbor of the current sample\n",
        "            nn = np.random.choice(knn_indices[j])\n",
        "            # Generate synthetic sample\n",
        "            diff = X_c[nn] - X_c[j]\n",
        "            factor = np.random.rand()\n",
        "            synthetic_X[c*num_synthetic + i] = X_c[j] + factor * diff\n",
        "            synthetic_y[c*num_synthetic + i] = c\n",
        "    # Combine the original and synthetic samples\n",
        "    X_resampled = np.vstack((X, synthetic_X))\n",
        "    y_resampled = np.concatenate((y, synthetic_y))\n",
        "    return X_resampled, y_resampled\n"
      ],
      "metadata": {
        "id": "R6pzjd1YVg94"
      },
      "execution_count": null,
      "outputs": []
    },
    {
      "cell_type": "code",
      "source": [
        "# oversample\n",
        "os_df_train = oversampling(df_train)\n",
        "os_df_val = oversampling(df_val)\n",
        "# df_test = oversampling(df_test)\n",
        "X_train = os_df_train.to_numpy()\n",
        "y_train = os_df_train['Target'].to_numpy().ravel()\n",
        "\n",
        "X_val = os_df_val.to_numpy()\n",
        "y_val = os_df_val['Target'].to_numpy().ravel()\n",
        "\n",
        "fld = FLD()\n",
        "fld.fit(X_train, y_train)\n",
        "\n",
        "y_pred = fld.predict_using_class_mean(X_train, y_train, X_val)\n",
        "print(\"FLD using class mean, accuracy: \", fld.accuracy_score(y_val, y_pred))"
      ],
      "metadata": {
        "colab": {
          "base_uri": "https://localhost:8080/"
        },
        "id": "QASSAEtlxFgx",
        "outputId": "620567d4-e425-4bb2-ffbb-f9426dafad9c"
      },
      "execution_count": null,
      "outputs": [
        {
          "output_type": "stream",
          "name": "stdout",
          "text": [
            "FLD using class mean, accuracy:  0.37037037037037035\n"
          ]
        },
        {
          "output_type": "stream",
          "name": "stderr",
          "text": [
            "<ipython-input-23-74f6f989fa8a>:22: FutureWarning: The frame.append method is deprecated and will be removed from pandas in a future version. Use pandas.concat instead.\n",
            "  X_oversample = X_oversample.append(new_data, ignore_index=True)\n",
            "<ipython-input-23-74f6f989fa8a>:16: FutureWarning: The frame.append method is deprecated and will be removed from pandas in a future version. Use pandas.concat instead.\n",
            "  new_data = X_hat.iloc[random1].append(X_hat.iloc[random2])\n",
            "<ipython-input-23-74f6f989fa8a>:22: FutureWarning: The frame.append method is deprecated and will be removed from pandas in a future version. Use pandas.concat instead.\n",
            "  X_oversample = X_oversample.append(new_data, ignore_index=True)\n"
          ]
        }
      ]
    },
    {
      "cell_type": "code",
      "source": [
        "# SMOTE\n",
        "X_train = df_train.to_numpy()\n",
        "y_train = df_train['Target'].to_numpy().ravel()\n",
        "\n",
        "X_val = df_val.to_numpy()\n",
        "y_val = df_val['Target'].to_numpy().ravel()\n",
        "\n",
        "X_resampled, y_resampled = SMOTE(X_train, y_train, k=20, num_synthetic=5000)\n",
        "X_resampled_val, y_resampled_val = SMOTE(X_val, y_val, k=20,num_synthetic=5000)\n",
        "\n",
        "fld = FLD()\n",
        "fld.fit(X_resampled, y_resampled)\n",
        "\n",
        "y_pred = fld.predict_using_class_mean(X_resampled, y_resampled, X_resampled_val)\n",
        "print(\"FLD using class mean, accuracy: \", fld.accuracy_score(y_resampled_val, y_pred))"
      ],
      "metadata": {
        "colab": {
          "base_uri": "https://localhost:8080/"
        },
        "id": "uOf6iDMZK-9c",
        "outputId": "d0f8c8ed-c5b2-4a0e-8b44-c660e166139b"
      },
      "execution_count": null,
      "outputs": [
        {
          "output_type": "stream",
          "name": "stdout",
          "text": [
            "FLD using class mean, accuracy:  0.8111117763276058\n"
          ]
        }
      ]
    },
    {
      "cell_type": "markdown",
      "source": [
        "Pearson Correlation"
      ],
      "metadata": {
        "id": "00KyI9gwEriP"
      }
    },
    {
      "cell_type": "code",
      "source": [
        "features = np.array(df_train.columns)\n",
        "df = pd.DataFrame(df_train.corr(),index = features, columns=features)\n",
        "df.style.background_gradient(cmap ='Blues')"
      ],
      "metadata": {
        "colab": {
          "base_uri": "https://localhost:8080/",
          "height": 206
        },
        "id": "KQmNP5xfZelN",
        "outputId": "ada64cb0-102c-4961-b007-e83292025dd6"
      },
      "execution_count": null,
      "outputs": [
        {
          "output_type": "execute_result",
          "data": {
            "text/plain": [
              "<pandas.io.formats.style.Styler at 0x7f5ed0518be0>"
            ],
            "text/html": [
              "<style type=\"text/css\">\n",
              "#T_aa868_row0_col0, #T_aa868_row1_col1, #T_aa868_row2_col2, #T_aa868_row3_col3, #T_aa868_row4_col4 {\n",
              "  background-color: #08306b;\n",
              "  color: #f1f1f1;\n",
              "}\n",
              "#T_aa868_row0_col1 {\n",
              "  background-color: #3282be;\n",
              "  color: #f1f1f1;\n",
              "}\n",
              "#T_aa868_row0_col2 {\n",
              "  background-color: #9ac8e0;\n",
              "  color: #000000;\n",
              "}\n",
              "#T_aa868_row0_col3 {\n",
              "  background-color: #a5cde3;\n",
              "  color: #000000;\n",
              "}\n",
              "#T_aa868_row0_col4, #T_aa868_row4_col0, #T_aa868_row4_col1, #T_aa868_row4_col2, #T_aa868_row4_col3 {\n",
              "  background-color: #f7fbff;\n",
              "  color: #000000;\n",
              "}\n",
              "#T_aa868_row1_col0 {\n",
              "  background-color: #2a7ab9;\n",
              "  color: #f1f1f1;\n",
              "}\n",
              "#T_aa868_row1_col2 {\n",
              "  background-color: #083c7d;\n",
              "  color: #f1f1f1;\n",
              "}\n",
              "#T_aa868_row1_col3, #T_aa868_row2_col0 {\n",
              "  background-color: #60a7d2;\n",
              "  color: #f1f1f1;\n",
              "}\n",
              "#T_aa868_row1_col4 {\n",
              "  background-color: #e2edf8;\n",
              "  color: #000000;\n",
              "}\n",
              "#T_aa868_row2_col1 {\n",
              "  background-color: #083a7a;\n",
              "  color: #f1f1f1;\n",
              "}\n",
              "#T_aa868_row2_col3, #T_aa868_row3_col0 {\n",
              "  background-color: #63a8d3;\n",
              "  color: #f1f1f1;\n",
              "}\n",
              "#T_aa868_row2_col4 {\n",
              "  background-color: #c9ddf0;\n",
              "  color: #000000;\n",
              "}\n",
              "#T_aa868_row3_col1 {\n",
              "  background-color: #4594c7;\n",
              "  color: #f1f1f1;\n",
              "}\n",
              "#T_aa868_row3_col2 {\n",
              "  background-color: #5da5d1;\n",
              "  color: #f1f1f1;\n",
              "}\n",
              "#T_aa868_row3_col4 {\n",
              "  background-color: #c1d9ed;\n",
              "  color: #000000;\n",
              "}\n",
              "</style>\n",
              "<table id=\"T_aa868\" class=\"dataframe\">\n",
              "  <thead>\n",
              "    <tr>\n",
              "      <th class=\"blank level0\" >&nbsp;</th>\n",
              "      <th id=\"T_aa868_level0_col0\" class=\"col_heading level0 col0\" >Feature1</th>\n",
              "      <th id=\"T_aa868_level0_col1\" class=\"col_heading level0 col1\" >Feature2</th>\n",
              "      <th id=\"T_aa868_level0_col2\" class=\"col_heading level0 col2\" >Feature3</th>\n",
              "      <th id=\"T_aa868_level0_col3\" class=\"col_heading level0 col3\" >Feature4</th>\n",
              "      <th id=\"T_aa868_level0_col4\" class=\"col_heading level0 col4\" >Target</th>\n",
              "    </tr>\n",
              "  </thead>\n",
              "  <tbody>\n",
              "    <tr>\n",
              "      <th id=\"T_aa868_level0_row0\" class=\"row_heading level0 row0\" >Feature1</th>\n",
              "      <td id=\"T_aa868_row0_col0\" class=\"data row0 col0\" >1.000000</td>\n",
              "      <td id=\"T_aa868_row0_col1\" class=\"data row0 col1\" >0.532584</td>\n",
              "      <td id=\"T_aa868_row0_col2\" class=\"data row0 col2\" >0.224169</td>\n",
              "      <td id=\"T_aa868_row0_col3\" class=\"data row0 col3\" >0.214851</td>\n",
              "      <td id=\"T_aa868_row0_col4\" class=\"data row0 col4\" >-0.657016</td>\n",
              "    </tr>\n",
              "    <tr>\n",
              "      <th id=\"T_aa868_level0_row1\" class=\"row_heading level0 row1\" >Feature2</th>\n",
              "      <td id=\"T_aa868_row1_col0\" class=\"data row1 col0\" >0.532584</td>\n",
              "      <td id=\"T_aa868_row1_col1\" class=\"data row1 col1\" >1.000000</td>\n",
              "      <td id=\"T_aa868_row1_col2\" class=\"data row1 col2\" >0.938422</td>\n",
              "      <td id=\"T_aa868_row1_col3\" class=\"data row1 col3\" >0.431155</td>\n",
              "      <td id=\"T_aa868_row1_col4\" class=\"data row1 col4\" >-0.477465</td>\n",
              "    </tr>\n",
              "    <tr>\n",
              "      <th id=\"T_aa868_level0_row2\" class=\"row_heading level0 row2\" >Feature3</th>\n",
              "      <td id=\"T_aa868_row2_col0\" class=\"data row2 col0\" >0.224169</td>\n",
              "      <td id=\"T_aa868_row2_col1\" class=\"data row2 col1\" >0.938422</td>\n",
              "      <td id=\"T_aa868_row2_col2\" class=\"data row2 col2\" >1.000000</td>\n",
              "      <td id=\"T_aa868_row2_col3\" class=\"data row2 col3\" >0.421574</td>\n",
              "      <td id=\"T_aa868_row2_col4\" class=\"data row2 col4\" >-0.265032</td>\n",
              "    </tr>\n",
              "    <tr>\n",
              "      <th id=\"T_aa868_level0_row3\" class=\"row_heading level0 row3\" >Feature4</th>\n",
              "      <td id=\"T_aa868_row3_col0\" class=\"data row3 col0\" >0.214851</td>\n",
              "      <td id=\"T_aa868_row3_col1\" class=\"data row3 col1\" >0.431155</td>\n",
              "      <td id=\"T_aa868_row3_col2\" class=\"data row3 col2\" >0.421574</td>\n",
              "      <td id=\"T_aa868_row3_col3\" class=\"data row3 col3\" >1.000000</td>\n",
              "      <td id=\"T_aa868_row3_col4\" class=\"data row3 col4\" >-0.215316</td>\n",
              "    </tr>\n",
              "    <tr>\n",
              "      <th id=\"T_aa868_level0_row4\" class=\"row_heading level0 row4\" >Target</th>\n",
              "      <td id=\"T_aa868_row4_col0\" class=\"data row4 col0\" >-0.657016</td>\n",
              "      <td id=\"T_aa868_row4_col1\" class=\"data row4 col1\" >-0.477465</td>\n",
              "      <td id=\"T_aa868_row4_col2\" class=\"data row4 col2\" >-0.265032</td>\n",
              "      <td id=\"T_aa868_row4_col3\" class=\"data row4 col3\" >-0.215316</td>\n",
              "      <td id=\"T_aa868_row4_col4\" class=\"data row4 col4\" >1.000000</td>\n",
              "    </tr>\n",
              "  </tbody>\n",
              "</table>\n"
            ]
          },
          "metadata": {},
          "execution_count": 27
        }
      ]
    },
    {
      "cell_type": "markdown",
      "source": [
        "Select feature by Pearson Correlation"
      ],
      "metadata": {
        "id": "QZAbz7dRE0_h"
      }
    },
    {
      "cell_type": "code",
      "source": [
        "X_train = df_train\n",
        "y_train = df_train['Target'].to_numpy().ravel()\n",
        "\n",
        "X_val = df_val\n",
        "y_val = df_val['Target'].to_numpy().ravel()\n",
        "\n",
        "lr = 0.05\n",
        "epochs = 100\n",
        "batch_size = 16\n",
        "\n",
        "thresholds = [0.2, 0.25, 0.4, 0.6]\n",
        "\n",
        "for threshold in thresholds:\n",
        "    highly_corr_features = X_train.columns[X_train.corr()['Target'].abs() > threshold]\n",
        "    highly_corr_features = highly_corr_features.drop('Target')\n",
        "    \n",
        "    x_train_subset = X_train[highly_corr_features]\n",
        "    x_val_subset = X_val[highly_corr_features]\n",
        "    print('\\n', highly_corr_features)\n",
        "    # convert data to NumPy  \n",
        "    x_train_subset = x_train_subset.to_numpy()\n",
        "    x_val_subset = x_val_subset.to_numpy()\n",
        "    \n",
        "    fld = FLD()\n",
        "    fld.fit(x_train_subset, y_train)\n",
        "\n",
        "    y_pred = fld.predict_using_class_mean(x_train_subset, y_train, x_val_subset)\n",
        "    print(\"FLD using class mean, accuracy: \", fld.accuracy_score(y_val, y_pred))"
      ],
      "metadata": {
        "colab": {
          "base_uri": "https://localhost:8080/"
        },
        "id": "x9NUgPVXESy-",
        "outputId": "99079ae3-4872-4529-efa5-5d267b7af2d5"
      },
      "execution_count": null,
      "outputs": [
        {
          "output_type": "stream",
          "name": "stdout",
          "text": [
            "\n",
            " Index(['Feature1', 'Feature2', 'Feature3', 'Feature4'], dtype='object')\n",
            "FLD using class mean, accuracy:  0.35290663534938344\n",
            "\n",
            " Index(['Feature1', 'Feature2', 'Feature3'], dtype='object')\n",
            "FLD using class mean, accuracy:  0.35231943628890194\n",
            "\n",
            " Index(['Feature1', 'Feature2'], dtype='object')\n",
            "FLD using class mean, accuracy:  0.367586611861421\n",
            "\n",
            " Index(['Feature1'], dtype='object')\n",
            "FLD using class mean, accuracy:  0.26189078097475044\n"
          ]
        }
      ]
    },
    {
      "cell_type": "code",
      "source": [
        "fig, axes = plt.subplots(1,5, figsize =(30, 10))\n",
        "# Creating plot\n",
        "axes[0].boxplot(df_train['Feature1'])\n",
        "axes[0].set_title(\"Feature1\")\n",
        "axes[1].boxplot(df_train['Feature2'])\n",
        "axes[1].set_title(\"Feature2\")\n",
        "axes[2].boxplot(df_train['Feature3'])\n",
        "axes[2].set_title(\"Feature3\")\n",
        "axes[3].boxplot(df_train['Feature4'])\n",
        "axes[3].set_title(\"Feature4\")\n",
        "axes[4].boxplot(df_train['Target'])\n",
        "axes[4].set_title(\"Target\")\n",
        "plt.show()"
      ],
      "metadata": {
        "colab": {
          "base_uri": "https://localhost:8080/",
          "height": 414
        },
        "id": "RNgAiqO7QASA",
        "outputId": "6e1e9513-4f37-4efd-87c2-136bb1e14539"
      },
      "execution_count": null,
      "outputs": [
        {
          "output_type": "display_data",
          "data": {
            "text/plain": [
              "<Figure size 2160x720 with 5 Axes>"
            ],
            "image/png": "[encoded data removed]"
          },
          "metadata": {
            "needs_background": "light"
          }
        }
      ]
    },
    {
      "cell_type": "code",
      "source": [
        "def outlier(data):\n",
        "  q1 = np.quantile(data, 0.25)\n",
        "  q3 = np.quantile(data, 0.75)\n",
        "  med = np.median(data)\n",
        "  \n",
        "  iqr = q3-q1\n",
        "  upper_bound = q3+(1.5*iqr)\n",
        "  lower_bound = q1-(1.5*iqr)\n",
        "\n",
        "  outliers = data[(data <= lower_bound) | (data >= upper_bound)]\n",
        "  \n",
        "  return upper_bound, lower_bound"
      ],
      "metadata": {
        "id": "qEUKAZIBQb8p"
      },
      "execution_count": null,
      "outputs": []
    },
    {
      "cell_type": "code",
      "source": [
        "df_train = pd.DataFrame(pd.read_csv(\"./PR_HW2_train.csv\"))\n",
        "df_val   = pd.DataFrame(pd.read_csv(\"./PR_HW2_val.csv\"))\n",
        "df_test  = pd.DataFrame(pd.read_csv(\"./PR_HW2_test.csv\"))\n",
        "\n",
        "# oversample\n",
        "df_train = oversampling(df_train)\n",
        "df_val = oversampling(df_val)\n",
        "\n",
        "# modify outlier\n",
        "## for train\n",
        "Feature1_upper_bound, Feature1_lower_bound = outlier(df_train['Feature1'])\n",
        "Feature1_median = np.percentile(df_train['Feature1'], 50)        \n",
        "df_train.loc[(df_train['Feature1'] <Feature1_lower_bound) | (df_train['Feature1']>Feature1_upper_bound), 'Feature1'] = Feature1_median\n",
        "\n",
        "Feature4_upper_bound, Feature4_lower_bound = outlier(df_train['Feature4'])\n",
        "Feature4_median = np.percentile(df_train['Feature4'], 50)       \n",
        "df_train.loc[(df_train['Feature4'] <Feature4_lower_bound) | (df_train['Feature4']>Feature4_upper_bound), 'Feature4'] = Feature4_median\n",
        "\n",
        "## for val\n",
        "Feature1_upper_bound, Feature1_lower_bound = outlier(df_val['Feature1'])\n",
        "Feature1_median = np.percentile(df_val['Feature1'], 50)       \n",
        "df_val.loc[(df_val['Feature1'] <Feature1_lower_bound) | (df_val['Feature1']>Feature4_upper_bound), 'Feature1'] = Feature1_median\n",
        "\n",
        "Feature4_upper_bound, Feature4_lower_bound = outlier(df_val['Feature4'])\n",
        "Feature4_median = np.percentile(df_val['Feature4'], 50)       \n",
        "df_val.loc[(df_val['Feature4'] <Feature4_lower_bound) | (df_val['Feature4']>Feature4_upper_bound), 'Feature4'] = Feature4_median\n",
        "\n",
        "## for test\n",
        "Feature1_upper_bound, Feature1_lower_bound = outlier(df_test['Feature1'])\n",
        "Feature1_median = np.percentile(df_test['Feature1'], 50)       \n",
        "df_test.loc[(df_test['Feature1'] <Feature1_lower_bound) | (df_test['Feature1']>Feature4_upper_bound), 'Feature1'] = Feature1_median\n",
        "\n",
        "Feature4_upper_bound, Feature4_lower_bound = outlier(df_test['Feature4'])\n",
        "Feature4_median = np.percentile(df_test['Feature4'], 50)       \n",
        "df_test.loc[(df_test['Feature4'] <Feature4_lower_bound) | (df_test['Feature4']>Feature4_upper_bound), 'Feature4'] = Feature4_median\n",
        "\n",
        "\n",
        "# create new features\n",
        "X_train = df_train.drop(['Target'], axis=1) \n",
        "X_train['Feature1_poly'] = df_train['Feature1']**2\n",
        "X_train['Feature4_poly'] = df_train['Feature4']**2\n",
        "X_train['Feature1_2'] = df_train['Feature1']*df_train['Feature2']\n",
        "X_train['Feature1_3'] = df_train['Feature1']*df_train['Feature3']\n",
        "X_train['Feature1_4'] = df_train['Feature1']*df_train['Feature4']\n",
        "X_train['Feature2_3'] = df_train['Feature2']*df_train['Feature3']\n",
        "X_train['Feature2_4'] = df_train['Feature2']*df_train['Feature4'] \n",
        "X_train['Feature3_4'] = df_train['Feature3']*df_train['Feature4'] \n",
        "X_train = X_train.to_numpy()\n",
        "y_train = df_train[['Target']].to_numpy().ravel()\n",
        "\n",
        "X_val = df_val.drop(['Target'], axis=1) \n",
        "X_val['Feature1_poly'] = df_val['Feature1']**2\n",
        "X_val['Feature4_poly'] = df_val['Feature4']**2\n",
        "X_val['Feature1_2'] = df_val['Feature1']*df_val['Feature2']\n",
        "X_val['Feature1_3'] = df_val['Feature1']*df_val['Feature3']\n",
        "X_val['Feature1_4'] = df_val['Feature1']*df_val['Feature4']\n",
        "X_val['Feature2_3'] = df_val['Feature2']*df_val['Feature3']\n",
        "X_val['Feature2_4'] = df_val['Feature2']*df_val['Feature4'] \n",
        "X_val['Feature3_4'] = df_val['Feature3']*df_val['Feature4']\n",
        "X_val = X_val.to_numpy()\n",
        "y_val = df_val[['Target']].to_numpy().ravel()\n",
        "\n",
        "X_test = df_test.drop(['Target'], axis=1) \n",
        "X_test['Feature1_poly'] = df_test['Feature1']**2\n",
        "X_test['Feature4_poly'] = df_test['Feature4']**2\n",
        "X_test['Feature1_2'] = df_test['Feature1']*df_test['Feature2']\n",
        "X_test['Feature1_3'] = df_test['Feature1']*df_test['Feature3']\n",
        "X_test['Feature1_4'] = df_test['Feature1']*df_test['Feature4']\n",
        "X_test['Feature2_3'] = df_test['Feature2']*df_test['Feature3']\n",
        "X_test['Feature2_4'] = df_test['Feature2']*df_test['Feature4'] \n",
        "X_test['Feature3_4'] = df_test['Feature3']*df_test['Feature4']\n",
        "X_test = X_test.to_numpy()\n",
        "\n",
        "# SMOTE\n",
        "X_train, y_train = SMOTE(X_train, y_train, k=15, num_synthetic=25000)   \n",
        "X_val, y_val = SMOTE(X_val, y_val, k=15, num_synthetic=25000)"
      ],
      "metadata": {
        "colab": {
          "base_uri": "https://localhost:8080/"
        },
        "id": "caxmnOId-wIl",
        "outputId": "a3eefb9c-a1b7-4303-ac76-3f961606a9e7"
      },
      "execution_count": null,
      "outputs": [
        {
          "output_type": "stream",
          "name": "stderr",
          "text": [
            "<ipython-input-23-74f6f989fa8a>:22: FutureWarning: The frame.append method is deprecated and will be removed from pandas in a future version. Use pandas.concat instead.\n",
            "  X_oversample = X_oversample.append(new_data, ignore_index=True)\n",
            "<ipython-input-23-74f6f989fa8a>:16: FutureWarning: The frame.append method is deprecated and will be removed from pandas in a future version. Use pandas.concat instead.\n",
            "  new_data = X_hat.iloc[random1].append(X_hat.iloc[random2])\n",
            "<ipython-input-23-74f6f989fa8a>:22: FutureWarning: The frame.append method is deprecated and will be removed from pandas in a future version. Use pandas.concat instead.\n",
            "  X_oversample = X_oversample.append(new_data, ignore_index=True)\n"
          ]
        }
      ]
    },
    {
      "cell_type": "code",
      "source": [
        "fld = FLD()\n",
        "fld.fit(X_train, y_train)\n",
        "\n",
        "y_pred = fld.predict_using_class_mean(X_train, y_train, X_val)\n",
        "print(\"FLD using class mean, accuracy: \", fld.accuracy_score(y_val, y_pred))"
      ],
      "metadata": {
        "colab": {
          "base_uri": "https://localhost:8080/"
        },
        "id": "PYT7lizpiofb",
        "outputId": "29470207-69ea-4c3b-ac05-8369e6f23cd9"
      },
      "execution_count": null,
      "outputs": [
        {
          "output_type": "stream",
          "name": "stderr",
          "text": [
            "<ipython-input-2-1923917ce08b>:96: ComplexWarning: Casting complex values to real discards the imaginary part\n",
            "  proj_mean[i] = np.dot(self.w.T, self.mean_vectors[i])\n",
            "<ipython-input-2-1923917ce08b>:100: ComplexWarning: Casting complex values to real discards the imaginary part\n",
            "  proj_X_test[i] = np.dot(self.w.T, X_test[i])\n"
          ]
        },
        {
          "output_type": "stream",
          "name": "stdout",
          "text": [
            "FLD using class mean, accuracy:  0.9222809335094672\n"
          ]
        }
      ]
    },
    {
      "cell_type": "code",
      "source": [
        "test_pred = fld.predict_using_class_mean(X_train, y_train, X_test) \n",
        "print(\"test_pred shape: \", test_pred.shape)"
      ],
      "metadata": {
        "id": "68NrvUPsBsy8",
        "colab": {
          "base_uri": "https://localhost:8080/"
        },
        "outputId": "c38a3fa9-8e92-4e87-d005-53bfc4127a1e"
      },
      "execution_count": null,
      "outputs": [
        {
          "output_type": "stream",
          "name": "stdout",
          "text": [
            "test_pred shape:  (5677,)\n"
          ]
        },
        {
          "output_type": "stream",
          "name": "stderr",
          "text": [
            "<ipython-input-2-1923917ce08b>:96: ComplexWarning: Casting complex values to real discards the imaginary part\n",
            "  proj_mean[i] = np.dot(self.w.T, self.mean_vectors[i])\n",
            "<ipython-input-2-1923917ce08b>:100: ComplexWarning: Casting complex values to real discards the imaginary part\n",
            "  proj_X_test[i] = np.dot(self.w.T, X_test[i])\n"
          ]
        }
      ]
    },
    {
      "cell_type": "markdown",
      "source": [
        "# Output the csv file"
      ],
      "metadata": {
        "id": "LBTMFtdlB55p"
      }
    },
    {
      "cell_type": "code",
      "source": [
        "# For Q13\n",
        "df_test = pd.DataFrame(pd.read_csv(\"./PR_HW2_test.csv\"))\n",
        "df_test[\"Target\"] = test_pred\n",
        "df_test.to_csv(\"sample_output.csv\")"
      ],
      "metadata": {
        "id": "C2OL-EI2B3ja"
      },
      "execution_count": null,
      "outputs": []
    }
  ]
}