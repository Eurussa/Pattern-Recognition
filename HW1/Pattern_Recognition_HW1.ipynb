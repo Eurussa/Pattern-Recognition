{
  "cells": [
    {
      "cell_type": "code",
      "execution_count": null,
      "metadata": {
        "id": "2UCHEgmFnm56"
      },
      "outputs": [],
      "source": [
        "import numpy as np\n",
        "import pandas as pd\n",
        "import matplotlib.pyplot as plt"
      ]
    },
    {
      "cell_type": "code",
      "execution_count": null,
      "metadata": {
        "id": "TsewcLvXnm5_"
      },
      "outputs": [],
      "source": [
        "# TODO\n",
        "# Implement the linear regression using gradient descent by only numpy\n",
        "\n",
        "class LinearRegression:\n",
        "    \n",
        "    def __init__(self):\n",
        "        \n",
        "        print(\"Don't cheat.\")\n",
        "        self.epoch = []\n",
        "        self.train_loss = []\n",
        "        self.weights = None\n",
        "        self.bias = 0\n",
        "\n",
        "    def fit(self, X, y, lr=0.001, epochs=100, batch_size=1):\n",
        "        n_samples, n_features = X.shape\n",
        "        self.weights = self.weights = np.zeros(n_features)  \n",
        "        new_a, new_b = 0,0\n",
        "\n",
        "        for epoch in range(epochs):\n",
        "            for batch in range(len(X)//batch_size):\n",
        "               for i in range(len(X)):\n",
        "                  new_a += 2*X[i]*(self.predict(X[i])-y[i])\n",
        "                  new_b += 2*(self.predict(X[i])-y[i])\n",
        "               new_a /= n_samples\n",
        "               new_b /= n_samples\n",
        "               self.weights = self.weights - new_a*lr\n",
        "               self.bias = self.bias - new_b*lr\n",
        "               #pass\n",
        "            \n",
        "            self.epoch.append(epoch)\n",
        "            self.train_loss.append(self.get_loss(X, y))\n",
        "            \n",
        "\n",
        "    def MSE(self, data, answer, size):\n",
        "        error = 0\n",
        "        for i in range(size):\n",
        "            difference = data[i] - answer[i]\n",
        "            error += difference ** 2\n",
        "        error /= size\n",
        "        return error\n",
        "\n",
        "    def get_loss(self, X, y):\n",
        "        pred_y = self.predict(X)\n",
        "        loss = self.MSE(pred_y, y, y.size)\n",
        "        return loss\n",
        "        #pass\n",
        "\n",
        "    def predict(self, X):\n",
        "        \n",
        "        return np.dot(X, self.weights) + self.bias\n",
        "        #pass\n",
        "                \n",
        "    def evaluate(self, X, y):\n",
        "        pred_y = self.predict(X)\n",
        "        loss = self.MSE(pred_y, y, y.size)\n",
        "        return loss\n",
        "        #pass\n",
        "        \n",
        "    def plot_curve(self):\n",
        "        # self.epoch and self.train_loss may be helpful here. \n",
        "        plt.title(\"MSE Loss\")\n",
        "        plt.xlabel(\"Epoch\")\n",
        "        plt.ylabel(\"MSE\")\n",
        "        plt.plot(self.epoch, self.train_loss, label=\"Train MSE loss\")\n",
        "        plt.legend(loc=\"upper right\")\n",
        "        plt.show()  \n",
        "        pass"
      ]
    },
    {
      "cell_type": "markdown",
      "metadata": {
        "id": "vE0LqmRdnm6B"
      },
      "source": [
        "# Load data & data pre-processing"
      ]
    },
    {
      "cell_type": "code",
      "execution_count": null,
      "metadata": {
        "id": "nS5JuNtvnm6C"
      },
      "outputs": [],
      "source": [
        "df_train = pd.DataFrame(pd.read_csv(\"./regression_train.csv\"))\n",
        "df_val   = pd.DataFrame(pd.read_csv(\"./regression_val.csv\"))\n",
        "df_test  = pd.DataFrame(pd.read_csv(\"./regression_test.csv\"))"
      ]
    },
    {
      "cell_type": "code",
      "execution_count": null,
      "metadata": {
        "id": "8ZxnlaLdnm6C",
        "colab": {
          "base_uri": "https://localhost:8080/",
          "height": 206
        },
        "outputId": "0bd1793b-f5f2-4ac3-dbe5-a533529a91aa"
      },
      "outputs": [
        {
          "output_type": "execute_result",
          "data": {
            "text/plain": [
              "   age     sex     bmi  children smoker     region      charges\n",
              "0   19  female  27.900         0    yes  southwest  16884.92400\n",
              "1   18    male  33.770         1     no  southeast   1725.55230\n",
              "2   28    male  33.000         3     no  southeast   4449.46200\n",
              "3   33    male  22.705         0     no  northwest  21984.47061\n",
              "4   32    male  28.880         0     no  northwest   3866.85520"
            ],
            "text/html": [
              "\n",
              "  <div id=\"df-fa291112-6ddf-426f-bd91-849a62ac7092\">\n",
              "    <div class=\"colab-df-container\">\n",
              "      <div>\n",
              "<style scoped>\n",
              "    .dataframe tbody tr th:only-of-type {\n",
              "        vertical-align: middle;\n",
              "    }\n",
              "\n",
              "    .dataframe tbody tr th {\n",
              "        vertical-align: top;\n",
              "    }\n",
              "\n",
              "    .dataframe thead th {\n",
              "        text-align: right;\n",
              "    }\n",
              "</style>\n",
              "<table border=\"1\" class=\"dataframe\">\n",
              "  <thead>\n",
              "    <tr style=\"text-align: right;\">\n",
              "      <th></th>\n",
              "      <th>age</th>\n",
              "      <th>sex</th>\n",
              "      <th>bmi</th>\n",
              "      <th>children</th>\n",
              "      <th>smoker</th>\n",
              "      <th>region</th>\n",
              "      <th>charges</th>\n",
              "    </tr>\n",
              "  </thead>\n",
              "  <tbody>\n",
              "    <tr>\n",
              "      <th>0</th>\n",
              "      <td>19</td>\n",
              "      <td>female</td>\n",
              "      <td>27.900</td>\n",
              "      <td>0</td>\n",
              "      <td>yes</td>\n",
              "      <td>southwest</td>\n",
              "      <td>16884.92400</td>\n",
              "    </tr>\n",
              "    <tr>\n",
              "      <th>1</th>\n",
              "      <td>18</td>\n",
              "      <td>male</td>\n",
              "      <td>33.770</td>\n",
              "      <td>1</td>\n",
              "      <td>no</td>\n",
              "      <td>southeast</td>\n",
              "      <td>1725.55230</td>\n",
              "    </tr>\n",
              "    <tr>\n",
              "      <th>2</th>\n",
              "      <td>28</td>\n",
              "      <td>male</td>\n",
              "      <td>33.000</td>\n",
              "      <td>3</td>\n",
              "      <td>no</td>\n",
              "      <td>southeast</td>\n",
              "      <td>4449.46200</td>\n",
              "    </tr>\n",
              "    <tr>\n",
              "      <th>3</th>\n",
              "      <td>33</td>\n",
              "      <td>male</td>\n",
              "      <td>22.705</td>\n",
              "      <td>0</td>\n",
              "      <td>no</td>\n",
              "      <td>northwest</td>\n",
              "      <td>21984.47061</td>\n",
              "    </tr>\n",
              "    <tr>\n",
              "      <th>4</th>\n",
              "      <td>32</td>\n",
              "      <td>male</td>\n",
              "      <td>28.880</td>\n",
              "      <td>0</td>\n",
              "      <td>no</td>\n",
              "      <td>northwest</td>\n",
              "      <td>3866.85520</td>\n",
              "    </tr>\n",
              "  </tbody>\n",
              "</table>\n",
              "</div>\n",
              "      <button class=\"colab-df-convert\" onclick=\"convertToInteractive('df-fa291112-6ddf-426f-bd91-849a62ac7092')\"\n",
              "              title=\"Convert this dataframe to an interactive table.\"\n",
              "              style=\"display:none;\">\n",
              "        \n",
              "  <svg xmlns=\"http://www.w3.org/2000/svg\" height=\"24px\"viewBox=\"0 0 24 24\"\n",
              "       width=\"24px\">\n",
              "    <path d=\"M0 0h24v24H0V0z\" fill=\"none\"/>\n",
              "    <path d=\"M18.56 5.44l.94 2.06.94-2.06 2.06-.94-2.06-.94-.94-2.06-.94 2.06-2.06.94zm-11 1L8.5 8.5l.94-2.06 2.06-.94-2.06-.94L8.5 2.5l-.94 2.06-2.06.94zm10 10l.94 2.06.94-2.06 2.06-.94-2.06-.94-.94-2.06-.94 2.06-2.06.94z\"/><path d=\"M17.41 7.96l-1.37-1.37c-.4-.4-.92-.59-1.43-.59-.52 0-1.04.2-1.43.59L10.3 9.45l-7.72 7.72c-.78.78-.78 2.05 0 2.83L4 21.41c.39.39.9.59 1.41.59.51 0 1.02-.2 1.41-.59l7.78-7.78 2.81-2.81c.8-.78.8-2.07 0-2.86zM5.41 20L4 18.59l7.72-7.72 1.47 1.35L5.41 20z\"/>\n",
              "  </svg>\n",
              "      </button>\n",
              "      \n",
              "  <style>\n",
              "    .colab-df-container {\n",
              "      display:flex;\n",
              "      flex-wrap:wrap;\n",
              "      gap: 12px;\n",
              "    }\n",
              "\n",
              "    .colab-df-convert {\n",
              "      background-color: #E8F0FE;\n",
              "      border: none;\n",
              "      border-radius: 50%;\n",
              "      cursor: pointer;\n",
              "      display: none;\n",
              "      fill: #1967D2;\n",
              "      height: 32px;\n",
              "      padding: 0 0 0 0;\n",
              "      width: 32px;\n",
              "    }\n",
              "\n",
              "    .colab-df-convert:hover {\n",
              "      background-color: #E2EBFA;\n",
              "      box-shadow: 0px 1px 2px rgba(60, 64, 67, 0.3), 0px 1px 3px 1px rgba(60, 64, 67, 0.15);\n",
              "      fill: #174EA6;\n",
              "    }\n",
              "\n",
              "    [theme=dark] .colab-df-convert {\n",
              "      background-color: #3B4455;\n",
              "      fill: #D2E3FC;\n",
              "    }\n",
              "\n",
              "    [theme=dark] .colab-df-convert:hover {\n",
              "      background-color: #434B5C;\n",
              "      box-shadow: 0px 1px 3px 1px rgba(0, 0, 0, 0.15);\n",
              "      filter: drop-shadow(0px 1px 2px rgba(0, 0, 0, 0.3));\n",
              "      fill: #FFFFFF;\n",
              "    }\n",
              "  </style>\n",
              "\n",
              "      <script>\n",
              "        const buttonEl =\n",
              "          document.querySelector('#df-fa291112-6ddf-426f-bd91-849a62ac7092 button.colab-df-convert');\n",
              "        buttonEl.style.display =\n",
              "          google.colab.kernel.accessAllowed ? 'block' : 'none';\n",
              "\n",
              "        async function convertToInteractive(key) {\n",
              "          const element = document.querySelector('#df-fa291112-6ddf-426f-bd91-849a62ac7092');\n",
              "          const dataTable =\n",
              "            await google.colab.kernel.invokeFunction('convertToInteractive',\n",
              "                                                     [key], {});\n",
              "          if (!dataTable) return;\n",
              "\n",
              "          const docLinkHtml = 'Like what you see? Visit the ' +\n",
              "            '<a target=\"_blank\" href=https://colab.research.google.com/notebooks/data_table.ipynb>data table notebook</a>'\n",
              "            + ' to learn more about interactive tables.';\n",
              "          element.innerHTML = '';\n",
              "          dataTable['output_type'] = 'display_data';\n",
              "          await google.colab.output.renderOutput(dataTable, element);\n",
              "          const docLink = document.createElement('div');\n",
              "          docLink.innerHTML = docLinkHtml;\n",
              "          element.appendChild(docLink);\n",
              "        }\n",
              "      </script>\n",
              "    </div>\n",
              "  </div>\n",
              "  "
            ]
          },
          "metadata": {},
          "execution_count": 4
        }
      ],
      "source": [
        "df_train.head()"
      ]
    },
    {
      "cell_type": "code",
      "execution_count": null,
      "metadata": {
        "id": "CKxM6OJSnm6D",
        "colab": {
          "base_uri": "https://localhost:8080/",
          "height": 206
        },
        "outputId": "1a6b4c67-04e1-4aad-dc66-cdb4e3b9e82b"
      },
      "outputs": [
        {
          "output_type": "execute_result",
          "data": {
            "text/plain": [
              "   age     sex    bmi  children smoker     region  charges\n",
              "0   33    male  30.25         0     no  southeast      NaN\n",
              "1   19  female  32.49         0    yes  northwest      NaN\n",
              "2   50    male  37.07         1     no  southeast      NaN\n",
              "3   41  female  32.60         3     no  southwest      NaN\n",
              "4   52  female  24.86         0     no  southeast      NaN"
            ],
            "text/html": [
              "\n",
              "  <div id=\"df-a07706f3-1684-43dc-916f-676496995b25\">\n",
              "    <div class=\"colab-df-container\">\n",
              "      <div>\n",
              "<style scoped>\n",
              "    .dataframe tbody tr th:only-of-type {\n",
              "        vertical-align: middle;\n",
              "    }\n",
              "\n",
              "    .dataframe tbody tr th {\n",
              "        vertical-align: top;\n",
              "    }\n",
              "\n",
              "    .dataframe thead th {\n",
              "        text-align: right;\n",
              "    }\n",
              "</style>\n",
              "<table border=\"1\" class=\"dataframe\">\n",
              "  <thead>\n",
              "    <tr style=\"text-align: right;\">\n",
              "      <th></th>\n",
              "      <th>age</th>\n",
              "      <th>sex</th>\n",
              "      <th>bmi</th>\n",
              "      <th>children</th>\n",
              "      <th>smoker</th>\n",
              "      <th>region</th>\n",
              "      <th>charges</th>\n",
              "    </tr>\n",
              "  </thead>\n",
              "  <tbody>\n",
              "    <tr>\n",
              "      <th>0</th>\n",
              "      <td>33</td>\n",
              "      <td>male</td>\n",
              "      <td>30.25</td>\n",
              "      <td>0</td>\n",
              "      <td>no</td>\n",
              "      <td>southeast</td>\n",
              "      <td>NaN</td>\n",
              "    </tr>\n",
              "    <tr>\n",
              "      <th>1</th>\n",
              "      <td>19</td>\n",
              "      <td>female</td>\n",
              "      <td>32.49</td>\n",
              "      <td>0</td>\n",
              "      <td>yes</td>\n",
              "      <td>northwest</td>\n",
              "      <td>NaN</td>\n",
              "    </tr>\n",
              "    <tr>\n",
              "      <th>2</th>\n",
              "      <td>50</td>\n",
              "      <td>male</td>\n",
              "      <td>37.07</td>\n",
              "      <td>1</td>\n",
              "      <td>no</td>\n",
              "      <td>southeast</td>\n",
              "      <td>NaN</td>\n",
              "    </tr>\n",
              "    <tr>\n",
              "      <th>3</th>\n",
              "      <td>41</td>\n",
              "      <td>female</td>\n",
              "      <td>32.60</td>\n",
              "      <td>3</td>\n",
              "      <td>no</td>\n",
              "      <td>southwest</td>\n",
              "      <td>NaN</td>\n",
              "    </tr>\n",
              "    <tr>\n",
              "      <th>4</th>\n",
              "      <td>52</td>\n",
              "      <td>female</td>\n",
              "      <td>24.86</td>\n",
              "      <td>0</td>\n",
              "      <td>no</td>\n",
              "      <td>southeast</td>\n",
              "      <td>NaN</td>\n",
              "    </tr>\n",
              "  </tbody>\n",
              "</table>\n",
              "</div>\n",
              "      <button class=\"colab-df-convert\" onclick=\"convertToInteractive('df-a07706f3-1684-43dc-916f-676496995b25')\"\n",
              "              title=\"Convert this dataframe to an interactive table.\"\n",
              "              style=\"display:none;\">\n",
              "        \n",
              "  <svg xmlns=\"http://www.w3.org/2000/svg\" height=\"24px\"viewBox=\"0 0 24 24\"\n",
              "       width=\"24px\">\n",
              "    <path d=\"M0 0h24v24H0V0z\" fill=\"none\"/>\n",
              "    <path d=\"M18.56 5.44l.94 2.06.94-2.06 2.06-.94-2.06-.94-.94-2.06-.94 2.06-2.06.94zm-11 1L8.5 8.5l.94-2.06 2.06-.94-2.06-.94L8.5 2.5l-.94 2.06-2.06.94zm10 10l.94 2.06.94-2.06 2.06-.94-2.06-.94-.94-2.06-.94 2.06-2.06.94z\"/><path d=\"M17.41 7.96l-1.37-1.37c-.4-.4-.92-.59-1.43-.59-.52 0-1.04.2-1.43.59L10.3 9.45l-7.72 7.72c-.78.78-.78 2.05 0 2.83L4 21.41c.39.39.9.59 1.41.59.51 0 1.02-.2 1.41-.59l7.78-7.78 2.81-2.81c.8-.78.8-2.07 0-2.86zM5.41 20L4 18.59l7.72-7.72 1.47 1.35L5.41 20z\"/>\n",
              "  </svg>\n",
              "      </button>\n",
              "      \n",
              "  <style>\n",
              "    .colab-df-container {\n",
              "      display:flex;\n",
              "      flex-wrap:wrap;\n",
              "      gap: 12px;\n",
              "    }\n",
              "\n",
              "    .colab-df-convert {\n",
              "      background-color: #E8F0FE;\n",
              "      border: none;\n",
              "      border-radius: 50%;\n",
              "      cursor: pointer;\n",
              "      display: none;\n",
              "      fill: #1967D2;\n",
              "      height: 32px;\n",
              "      padding: 0 0 0 0;\n",
              "      width: 32px;\n",
              "    }\n",
              "\n",
              "    .colab-df-convert:hover {\n",
              "      background-color: #E2EBFA;\n",
              "      box-shadow: 0px 1px 2px rgba(60, 64, 67, 0.3), 0px 1px 3px 1px rgba(60, 64, 67, 0.15);\n",
              "      fill: #174EA6;\n",
              "    }\n",
              "\n",
              "    [theme=dark] .colab-df-convert {\n",
              "      background-color: #3B4455;\n",
              "      fill: #D2E3FC;\n",
              "    }\n",
              "\n",
              "    [theme=dark] .colab-df-convert:hover {\n",
              "      background-color: #434B5C;\n",
              "      box-shadow: 0px 1px 3px 1px rgba(0, 0, 0, 0.15);\n",
              "      filter: drop-shadow(0px 1px 2px rgba(0, 0, 0, 0.3));\n",
              "      fill: #FFFFFF;\n",
              "    }\n",
              "  </style>\n",
              "\n",
              "      <script>\n",
              "        const buttonEl =\n",
              "          document.querySelector('#df-a07706f3-1684-43dc-916f-676496995b25 button.colab-df-convert');\n",
              "        buttonEl.style.display =\n",
              "          google.colab.kernel.accessAllowed ? 'block' : 'none';\n",
              "\n",
              "        async function convertToInteractive(key) {\n",
              "          const element = document.querySelector('#df-a07706f3-1684-43dc-916f-676496995b25');\n",
              "          const dataTable =\n",
              "            await google.colab.kernel.invokeFunction('convertToInteractive',\n",
              "                                                     [key], {});\n",
              "          if (!dataTable) return;\n",
              "\n",
              "          const docLinkHtml = 'Like what you see? Visit the ' +\n",
              "            '<a target=\"_blank\" href=https://colab.research.google.com/notebooks/data_table.ipynb>data table notebook</a>'\n",
              "            + ' to learn more about interactive tables.';\n",
              "          element.innerHTML = '';\n",
              "          dataTable['output_type'] = 'display_data';\n",
              "          await google.colab.output.renderOutput(dataTable, element);\n",
              "          const docLink = document.createElement('div');\n",
              "          docLink.innerHTML = docLinkHtml;\n",
              "          element.appendChild(docLink);\n",
              "        }\n",
              "      </script>\n",
              "    </div>\n",
              "  </div>\n",
              "  "
            ]
          },
          "metadata": {},
          "execution_count": 5
        }
      ],
      "source": [
        "df_test.head()"
      ]
    },
    {
      "cell_type": "code",
      "source": [
        "df_train.info()"
      ],
      "metadata": {
        "id": "C2VQYttZohkx",
        "colab": {
          "base_uri": "https://localhost:8080/"
        },
        "outputId": "10d52dd7-8236-430a-db4d-26a88d39908d"
      },
      "execution_count": null,
      "outputs": [
        {
          "output_type": "stream",
          "name": "stdout",
          "text": [
            "<class 'pandas.core.frame.DataFrame'>\n",
            "RangeIndex: 938 entries, 0 to 937\n",
            "Data columns (total 7 columns):\n",
            " #   Column    Non-Null Count  Dtype  \n",
            "---  ------    --------------  -----  \n",
            " 0   age       938 non-null    int64  \n",
            " 1   sex       938 non-null    object \n",
            " 2   bmi       938 non-null    float64\n",
            " 3   children  938 non-null    int64  \n",
            " 4   smoker    938 non-null    object \n",
            " 5   region    938 non-null    object \n",
            " 6   charges   938 non-null    float64\n",
            "dtypes: float64(2), int64(2), object(3)\n",
            "memory usage: 51.4+ KB\n"
          ]
        }
      ]
    },
    {
      "cell_type": "code",
      "source": [
        "# TODO\n",
        "# You may do the labelEncoder here\n",
        "\n",
        "#### For multiple features, please use the following settings.####\n",
        "# sex.female -> 0\n",
        "# sex.male -> 1\n",
        "\n",
        "# smoker.no -> 0\n",
        "# smoker.yes -> 1\n",
        "\n",
        "# region.northeast -> 0\n",
        "# region.northwest -> 1\n",
        "# region.southeast -> 2\n",
        "# region.southwest -> 3\n",
        "##################################################################\n",
        "dict = {\"female\":0, \"male\":1, \"no\":0, \"yes\":1, \"northeast\":0, \"northwest\":1,\"southeast\":2,\"southwest\":3}\n",
        "df_train[\"sex\"] = df_train[\"sex\"].map(dict)\n",
        "df_train[\"smoker\"] = df_train[\"smoker\"].map(dict)\n",
        "df_train[\"region\"] = df_train[\"region\"].map(dict)\n",
        "\n",
        "print(df_train)\n",
        "df_val[\"sex\"] = df_val[\"sex\"].map(dict)\n",
        "df_val[\"smoker\"] = df_val[\"smoker\"].map(dict)\n",
        "df_val[\"region\"] = df_val[\"region\"].map(dict)\n",
        "\n",
        "df_test[\"sex\"] = df_test[\"sex\"].map(dict)\n",
        "df_test[\"smoker\"] = df_test[\"smoker\"].map(dict)\n",
        "df_test[\"region\"] = df_test[\"region\"].map(dict)\n",
        "\n",
        "# You may try different label encoding for training your own model\n"
      ],
      "metadata": {
        "id": "9wO-wPLypbzB",
        "colab": {
          "base_uri": "https://localhost:8080/"
        },
        "outputId": "a168db0d-13d1-4f6d-d8a0-5344844ac656"
      },
      "execution_count": null,
      "outputs": [
        {
          "output_type": "stream",
          "name": "stdout",
          "text": [
            "     age  sex     bmi  children  smoker  region      charges\n",
            "0     19    0  27.900         0       1       3  16884.92400\n",
            "1     18    1  33.770         1       0       2   1725.55230\n",
            "2     28    1  33.000         3       0       2   4449.46200\n",
            "3     33    1  22.705         0       0       1  21984.47061\n",
            "4     32    1  28.880         0       0       1   3866.85520\n",
            "..   ...  ...     ...       ...     ...     ...          ...\n",
            "933   45    0  35.300         0       0       3   7348.14200\n",
            "934   32    1  37.180         2       0       2   4673.39220\n",
            "935   59    0  27.500         0       0       3  12233.82800\n",
            "936   44    1  29.735         2       0       0  32108.66282\n",
            "937   39    0  24.225         5       0       1   8965.79575\n",
            "\n",
            "[938 rows x 7 columns]\n"
          ]
        }
      ]
    },
    {
      "cell_type": "markdown",
      "metadata": {
        "id": "OJj42I-0nm6F"
      },
      "source": [
        "# Single feature (using bmi)"
      ]
    },
    {
      "cell_type": "code",
      "execution_count": null,
      "metadata": {
        "id": "yedo6qY3nm6F"
      },
      "outputs": [],
      "source": [
        "# Do not modify here\n",
        "\n",
        "x_train = df_train.drop(['charges'], axis=1)\n",
        "y_train = df_train['charges']\n",
        "x_train = x_train[['bmi']]\n",
        "\n",
        "x_val = df_val.drop(['charges'], axis=1)\n",
        "y_val = df_val['charges']\n",
        "x_val = x_val[['bmi']]\n",
        "\n",
        "x_test = df_test.drop(['charges'], axis=1)\n",
        "x_test = x_test[['bmi']]"
      ]
    },
    {
      "cell_type": "code",
      "source": [
        "# TODO\n",
        "# You may convert data to NumPy here \n",
        "x_train = x_train.to_numpy()\n",
        "y_train = y_train.to_numpy()\n",
        "\n",
        "x_val = x_val.to_numpy()\n",
        "y_val = y_val.to_numpy()\n",
        "\n",
        "x_test = x_test.to_numpy()"
      ],
      "metadata": {
        "id": "ObKo4RachwJ_"
      },
      "execution_count": null,
      "outputs": []
    },
    {
      "cell_type": "code",
      "execution_count": null,
      "metadata": {
        "id": "0ir1zYhBnm6H",
        "colab": {
          "base_uri": "https://localhost:8080/"
        },
        "outputId": "266a448e-8e70-4202-fc85-e37d65c1738a"
      },
      "outputs": [
        {
          "output_type": "stream",
          "name": "stdout",
          "text": [
            "Don't cheat.\n"
          ]
        }
      ],
      "source": [
        "batch_size = x_train.shape[0]\n",
        "\n",
        "# TODO\n",
        "# Tune the parameters\n",
        "# Refer to slide page 9\n",
        "lr = 0.001\n",
        "epochs = 120000\n",
        "\n",
        "linear_reg = LinearRegression()\n",
        "linear_reg.fit(x_train, y_train, lr=lr, epochs=epochs, batch_size=batch_size)"
      ]
    },
    {
      "cell_type": "code",
      "source": [
        "print(\"Intercepts: \", linear_reg.bias)\n",
        "print(\"Weights: \", linear_reg.weights)"
      ],
      "metadata": {
        "colab": {
          "base_uri": "https://localhost:8080/"
        },
        "id": "Jl-PkXR1qnBa",
        "outputId": "07370749-6f7a-4f5e-ddc1-742dc6116ee6"
      },
      "execution_count": null,
      "outputs": [
        {
          "output_type": "stream",
          "name": "stdout",
          "text": [
            "Intercepts:  1382.3218777221728\n",
            "Weights:  [380.14135826]\n"
          ]
        }
      ]
    },
    {
      "cell_type": "code",
      "execution_count": null,
      "metadata": {
        "id": "gMtpEVnlnm6I",
        "colab": {
          "base_uri": "https://localhost:8080/"
        },
        "outputId": "ec76755c-324d-490f-b58f-698efd5fa93c"
      },
      "outputs": [
        {
          "output_type": "stream",
          "name": "stdout",
          "text": [
            "training loss:  139562065.48511875\n"
          ]
        }
      ],
      "source": [
        "print('training loss: ', linear_reg.evaluate(x_train, y_train))"
      ]
    },
    {
      "cell_type": "code",
      "source": [
        "print('validation loss: ', linear_reg.evaluate(x_val, y_val))"
      ],
      "metadata": {
        "id": "xQ42eFmxoujI",
        "colab": {
          "base_uri": "https://localhost:8080/"
        },
        "outputId": "80213d62-e288-483f-a0b1-d25ea8840fe5"
      },
      "execution_count": null,
      "outputs": [
        {
          "output_type": "stream",
          "name": "stdout",
          "text": [
            "validation loss:  136920254.62600943\n"
          ]
        }
      ]
    },
    {
      "cell_type": "code",
      "execution_count": null,
      "metadata": {
        "id": "2aNyL15ynm6I"
      },
      "outputs": [],
      "source": [
        "test_pred = linear_reg.predict(x_test)"
      ]
    },
    {
      "cell_type": "code",
      "execution_count": null,
      "metadata": {
        "id": "wM2x8Tvmnm6J",
        "colab": {
          "base_uri": "https://localhost:8080/",
          "height": 295
        },
        "outputId": "832562ad-370b-4656-c985-cee56c662625"
      },
      "outputs": [
        {
          "output_type": "display_data",
          "data": {
            "text/plain": [
              "<Figure size 432x288 with 1 Axes>"
            ],
            "image/png": "[encoded data removed]"
          },
          "metadata": {
            "needs_background": "light"
          }
        }
      ],
      "source": [
        "linear_reg.plot_curve()"
      ]
    },
    {
      "cell_type": "code",
      "execution_count": null,
      "metadata": {
        "id": "SIusBE_dnm6J",
        "colab": {
          "base_uri": "https://localhost:8080/",
          "height": 295
        },
        "outputId": "214b55dd-f26d-418c-c079-9f2485ce00a6"
      },
      "outputs": [
        {
          "output_type": "display_data",
          "data": {
            "text/plain": [
              "<Figure size 432x288 with 1 Axes>"
            ],
            "image/png": "[encoded data removed]"
          },
          "metadata": {
            "needs_background": "light"
          }
        }
      ],
      "source": [
        "# Use matplotlib to plot the predicted line with the training and validation samples\n",
        "\n",
        "# TODO\n",
        "\n",
        "x1 = x_train\n",
        "x2 = x_val\n",
        "x3 = np.arange(15, 50)\n",
        "\n",
        "y1 = y_train\n",
        "y2 = y_val\n",
        "y3 = linear_reg.weights*x3 + linear_reg.bias\n",
        "\n",
        "plt.title(\"Charges vs BMI\")\n",
        "plt.xlabel(\"BMI\")\n",
        "plt.ylabel(\"Charges\")\n",
        "\n",
        "plt.scatter(x1, y1, color='cornflowerblue', s=5, label='Training samples')\n",
        "plt.scatter(x2, y2, color='orange', s=5, label='Validation samples')\n",
        "plt.plot(x3, y3, color='red', label='Linear model')\n",
        "plt.legend(loc=\"upper left\")\n",
        "plt.show()  \n",
        "# plt.show()"
      ]
    },
    {
      "cell_type": "markdown",
      "metadata": {
        "id": "el3_fUSVnm6K"
      },
      "source": [
        "# Multiple features"
      ]
    },
    {
      "cell_type": "code",
      "execution_count": null,
      "metadata": {
        "id": "hzijeACjnm6L"
      },
      "outputs": [],
      "source": [
        "# Do not modify here\n",
        "\n",
        "x_train = df_train.drop(['charges'], axis=1)\n",
        "y_train = df_train['charges']\n",
        "\n",
        "x_val = df_val.drop(['charges'], axis=1)\n",
        "y_val = df_val['charges']\n",
        "\n",
        "x_test = df_test.drop(['charges'], axis=1)"
      ]
    },
    {
      "cell_type": "code",
      "source": [
        "# TODO\n",
        "# You may convert data to NumPy here \n",
        "x_train = x_train.to_numpy()\n",
        "y_train = y_train.to_numpy()\n",
        "\n",
        "x_val = x_val.to_numpy()\n",
        "y_val = y_val.to_numpy()\n",
        "\n",
        "x_test = x_test.to_numpy()"
      ],
      "metadata": {
        "id": "vz4Qn8Umh9Gm"
      },
      "execution_count": null,
      "outputs": []
    },
    {
      "cell_type": "code",
      "execution_count": null,
      "metadata": {
        "id": "Ek8YAFolnm6M",
        "colab": {
          "base_uri": "https://localhost:8080/"
        },
        "outputId": "56eaf842-d870-4e27-c4c6-b731e1c5186f"
      },
      "outputs": [
        {
          "output_type": "stream",
          "name": "stdout",
          "text": [
            "Don't cheat.\n"
          ]
        }
      ],
      "source": [
        "batch_size = x_train.shape[0]\n",
        "\n",
        "# TODO\n",
        "# Tune the parameters\n",
        "# Refer to slide page 10\n",
        "lr = 0.0003\n",
        "epochs = 720000\n",
        "\n",
        "linear_reg = LinearRegression()\n",
        "linear_reg.fit(x_train, y_train, lr=lr, epochs=epochs, batch_size=batch_size)"
      ]
    },
    {
      "cell_type": "code",
      "execution_count": null,
      "metadata": {
        "id": "77bKB1JKnm6M",
        "colab": {
          "base_uri": "https://localhost:8080/"
        },
        "outputId": "ea5986c0-7050-4287-940f-3c93628af4c7"
      },
      "outputs": [
        {
          "output_type": "stream",
          "name": "stdout",
          "text": [
            "Intercepts:  -11857.002034875066\n",
            "Weights:  [  259.85060556  -383.54881022   333.33126494   442.55656638\n",
            " 24032.21870328  -416.01544821]\n"
          ]
        }
      ],
      "source": [
        "print(\"Intercepts: \", linear_reg.bias)\n",
        "print(\"Weights: \", linear_reg.weights)"
      ]
    },
    {
      "cell_type": "code",
      "execution_count": null,
      "metadata": {
        "id": "v3bZe5XVnm6N",
        "colab": {
          "base_uri": "https://localhost:8080/"
        },
        "outputId": "7aee469c-8051-47c8-d889-029f6144ec09"
      },
      "outputs": [
        {
          "output_type": "stream",
          "name": "stdout",
          "text": [
            "training loss:  34697170.25360717\n"
          ]
        }
      ],
      "source": [
        "print('training loss: ', linear_reg.evaluate(x_train, y_train))"
      ]
    },
    {
      "cell_type": "code",
      "source": [
        "print('validation loss: ', linear_reg.evaluate(x_val, y_val))"
      ],
      "metadata": {
        "id": "MgnD2yXVo-67",
        "colab": {
          "base_uri": "https://localhost:8080/"
        },
        "outputId": "b072ea17-1531-4fc4-be68-a75538839486"
      },
      "execution_count": null,
      "outputs": [
        {
          "output_type": "stream",
          "name": "stdout",
          "text": [
            "validation loss:  41958561.75087598\n"
          ]
        }
      ]
    },
    {
      "cell_type": "code",
      "execution_count": null,
      "metadata": {
        "id": "L1dVgl2unm6N"
      },
      "outputs": [],
      "source": [
        "test_pred = linear_reg.predict(x_test)"
      ]
    },
    {
      "cell_type": "code",
      "execution_count": null,
      "metadata": {
        "id": "Js0IK_Blnm6O",
        "colab": {
          "base_uri": "https://localhost:8080/",
          "height": 295
        },
        "outputId": "4b5ac8bc-be2d-4a0c-cbbc-a4ca86756f92"
      },
      "outputs": [
        {
          "output_type": "display_data",
          "data": {
            "text/plain": [
              "<Figure size 432x288 with 1 Axes>"
            ],
            "image/png": "[encoded data removed]"
          },
          "metadata": {
            "needs_background": "light"
          }
        }
      ],
      "source": [
        "linear_reg.plot_curve()"
      ]
    },
    {
      "cell_type": "markdown",
      "source": [
        "# Train your own model and predict for testing data."
      ],
      "metadata": {
        "id": "mcyR-WJzxRsw"
      }
    },
    {
      "cell_type": "markdown",
      "source": [
        "### Data analysis"
      ],
      "metadata": {
        "id": "3miDefBs5Ovb"
      }
    },
    {
      "cell_type": "markdown",
      "source": [
        "Data distribution"
      ],
      "metadata": {
        "id": "Fj0njc8Kgsek"
      }
    },
    {
      "cell_type": "code",
      "source": [
        "fig, axes = plt.subplots(1, 7, figsize=(30, 10))\n",
        "axes[0].hist(df_train['age'])\n",
        "axes[0].set_title(\"age\")\n",
        "axes[1].hist(df_train['sex'])\n",
        "axes[1].set_title(\"sex\")\n",
        "axes[2].hist(df_train['bmi'])\n",
        "axes[2].set_title(\"bmi\")\n",
        "axes[3].hist(df_train['children'])\n",
        "axes[3].set_title(\"children\")\n",
        "axes[4].hist(df_train['smoker'])\n",
        "axes[4].set_title(\"smoker\")\n",
        "axes[5].hist(df_train['region'])\n",
        "axes[5].set_title(\"region\")\n",
        "axes[6].hist(df_train['charges'])\n",
        "axes[6].set_title(\"charges\")\n",
        "plt.show()"
      ],
      "metadata": {
        "id": "b3eKHMN8gpPs",
        "colab": {
          "base_uri": "https://localhost:8080/",
          "height": 465
        },
        "outputId": "152c9d67-50f3-4f7d-c172-54f0e26cecf8"
      },
      "execution_count": null,
      "outputs": [
        {
          "output_type": "display_data",
          "data": {
            "text/plain": [
              "<Figure size 2160x720 with 7 Axes>"
            ],
            "image/png": "[encoded data removed]"
          },
          "metadata": {
            "needs_background": "light"
          }
        }
      ]
    },
    {
      "cell_type": "markdown",
      "source": [
        "Feature importance"
      ],
      "metadata": {
        "id": "JuOn-JL5hZHe"
      }
    },
    {
      "cell_type": "code",
      "source": [
        "# Take the model weights trained above to observe the feature importance\n",
        "weight_list = ['age', 'sex', 'bmi', 'children', 'smoker', 'region']\n",
        "\n",
        "coef = pd.DataFrame(linear_reg.weights, index = weight_list, columns = [\"coefficients\"])\n",
        "coef.plot(kind='barh', figsize=(8, 5), colormap = \"Pastel2\")\n",
        "plt.title('Feature Importance')\n",
        "plt.axvline(x=0, color='.8')\n",
        "plt.xlim(-1000, 1000)\n",
        "plt.subplots_adjust(left=.4)"
      ],
      "metadata": {
        "id": "z4cvYnyh9hFX",
        "colab": {
          "base_uri": "https://localhost:8080/",
          "height": 336
        },
        "outputId": "50be0010-ba1e-49f3-8876-d42e2ab32bbe"
      },
      "execution_count": null,
      "outputs": [
        {
          "output_type": "display_data",
          "data": {
            "text/plain": [
              "<Figure size 576x360 with 1 Axes>"
            ],
            "image/png": "[encoded data removed]"
          },
          "metadata": {
            "needs_background": "light"
          }
        }
      ]
    },
    {
      "cell_type": "markdown",
      "source": [
        "Pearson Correlation"
      ],
      "metadata": {
        "id": "Iim6MKaRIppL"
      }
    },
    {
      "cell_type": "code",
      "source": [
        "features = np.array(df_train.columns)\n",
        "df = pd.DataFrame(df_train.corr(),index = features, columns=features)\n",
        "df.style.background_gradient(cmap ='Blues')"
      ],
      "metadata": {
        "id": "Nh_2yzsaJl4c",
        "colab": {
          "base_uri": "https://localhost:8080/",
          "height": 268
        },
        "outputId": "504a5ea0-32e0-481e-ef1f-37f409382ada"
      },
      "execution_count": null,
      "outputs": [
        {
          "output_type": "execute_result",
          "data": {
            "text/plain": [
              "<pandas.io.formats.style.Styler at 0x7f8ed0570430>"
            ],
            "text/html": [
              "<style type=\"text/css\">\n",
              "#T_780fc_row0_col0, #T_780fc_row1_col1, #T_780fc_row2_col2, #T_780fc_row3_col3, #T_780fc_row4_col4, #T_780fc_row5_col5, #T_780fc_row6_col6 {\n",
              "  background-color: #08306b;\n",
              "  color: #f1f1f1;\n",
              "}\n",
              "#T_780fc_row0_col1, #T_780fc_row1_col0, #T_780fc_row3_col4, #T_780fc_row4_col2, #T_780fc_row4_col3, #T_780fc_row5_col4, #T_780fc_row5_col6, #T_780fc_row6_col5 {\n",
              "  background-color: #f7fbff;\n",
              "  color: #000000;\n",
              "}\n",
              "#T_780fc_row0_col2 {\n",
              "  background-color: #e1edf8;\n",
              "  color: #000000;\n",
              "}\n",
              "#T_780fc_row0_col3, #T_780fc_row4_col0, #T_780fc_row5_col0, #T_780fc_row5_col1 {\n",
              "  background-color: #eef5fc;\n",
              "  color: #000000;\n",
              "}\n",
              "#T_780fc_row0_col4 {\n",
              "  background-color: #f5fafe;\n",
              "  color: #000000;\n",
              "}\n",
              "#T_780fc_row0_col5, #T_780fc_row1_col2, #T_780fc_row1_col5 {\n",
              "  background-color: #f3f8fe;\n",
              "  color: #000000;\n",
              "}\n",
              "#T_780fc_row0_col6 {\n",
              "  background-color: #a9cfe5;\n",
              "  color: #000000;\n",
              "}\n",
              "#T_780fc_row1_col3, #T_780fc_row2_col3 {\n",
              "  background-color: #f0f6fd;\n",
              "  color: #000000;\n",
              "}\n",
              "#T_780fc_row1_col4 {\n",
              "  background-color: #e7f1fa;\n",
              "  color: #000000;\n",
              "}\n",
              "#T_780fc_row1_col6 {\n",
              "  background-color: #edf4fc;\n",
              "  color: #000000;\n",
              "}\n",
              "#T_780fc_row2_col0 {\n",
              "  background-color: #d9e8f5;\n",
              "  color: #000000;\n",
              "}\n",
              "#T_780fc_row2_col1 {\n",
              "  background-color: #eaf3fb;\n",
              "  color: #000000;\n",
              "}\n",
              "#T_780fc_row2_col4 {\n",
              "  background-color: #f6faff;\n",
              "  color: #000000;\n",
              "}\n",
              "#T_780fc_row2_col5 {\n",
              "  background-color: #d6e6f4;\n",
              "  color: #000000;\n",
              "}\n",
              "#T_780fc_row2_col6 {\n",
              "  background-color: #cde0f1;\n",
              "  color: #000000;\n",
              "}\n",
              "#T_780fc_row3_col0 {\n",
              "  background-color: #e7f0fa;\n",
              "  color: #000000;\n",
              "}\n",
              "#T_780fc_row3_col1, #T_780fc_row3_col6 {\n",
              "  background-color: #e9f2fa;\n",
              "  color: #000000;\n",
              "}\n",
              "#T_780fc_row3_col2 {\n",
              "  background-color: #f2f7fd;\n",
              "  color: #000000;\n",
              "}\n",
              "#T_780fc_row3_col5 {\n",
              "  background-color: #f2f8fd;\n",
              "  color: #000000;\n",
              "}\n",
              "#T_780fc_row4_col1 {\n",
              "  background-color: #e0ecf8;\n",
              "  color: #000000;\n",
              "}\n",
              "#T_780fc_row4_col5, #T_780fc_row5_col3 {\n",
              "  background-color: #f5f9fe;\n",
              "  color: #000000;\n",
              "}\n",
              "#T_780fc_row4_col6 {\n",
              "  background-color: #1865ac;\n",
              "  color: #f1f1f1;\n",
              "}\n",
              "#T_780fc_row5_col2 {\n",
              "  background-color: #dae8f6;\n",
              "  color: #000000;\n",
              "}\n",
              "#T_780fc_row6_col0 {\n",
              "  background-color: #a4cce3;\n",
              "  color: #000000;\n",
              "}\n",
              "#T_780fc_row6_col1 {\n",
              "  background-color: #e8f1fa;\n",
              "  color: #000000;\n",
              "}\n",
              "#T_780fc_row6_col2 {\n",
              "  background-color: #d1e2f3;\n",
              "  color: #000000;\n",
              "}\n",
              "#T_780fc_row6_col3 {\n",
              "  background-color: #ebf3fb;\n",
              "  color: #000000;\n",
              "}\n",
              "#T_780fc_row6_col4 {\n",
              "  background-color: #1966ad;\n",
              "  color: #f1f1f1;\n",
              "}\n",
              "</style>\n",
              "<table id=\"T_780fc\" class=\"dataframe\">\n",
              "  <thead>\n",
              "    <tr>\n",
              "      <th class=\"blank level0\" >&nbsp;</th>\n",
              "      <th id=\"T_780fc_level0_col0\" class=\"col_heading level0 col0\" >age</th>\n",
              "      <th id=\"T_780fc_level0_col1\" class=\"col_heading level0 col1\" >sex</th>\n",
              "      <th id=\"T_780fc_level0_col2\" class=\"col_heading level0 col2\" >bmi</th>\n",
              "      <th id=\"T_780fc_level0_col3\" class=\"col_heading level0 col3\" >children</th>\n",
              "      <th id=\"T_780fc_level0_col4\" class=\"col_heading level0 col4\" >smoker</th>\n",
              "      <th id=\"T_780fc_level0_col5\" class=\"col_heading level0 col5\" >region</th>\n",
              "      <th id=\"T_780fc_level0_col6\" class=\"col_heading level0 col6\" >charges</th>\n",
              "    </tr>\n",
              "  </thead>\n",
              "  <tbody>\n",
              "    <tr>\n",
              "      <th id=\"T_780fc_level0_row0\" class=\"row_heading level0 row0\" >age</th>\n",
              "      <td id=\"T_780fc_row0_col0\" class=\"data row0 col0\" >1.000000</td>\n",
              "      <td id=\"T_780fc_row0_col1\" class=\"data row0 col1\" >-0.053253</td>\n",
              "      <td id=\"T_780fc_row0_col2\" class=\"data row0 col2\" >0.105642</td>\n",
              "      <td id=\"T_780fc_row0_col3\" class=\"data row0 col3\" >0.033802</td>\n",
              "      <td id=\"T_780fc_row0_col4\" class=\"data row0 col4\" >-0.004509</td>\n",
              "      <td id=\"T_780fc_row0_col5\" class=\"data row0 col5\" >-0.006884</td>\n",
              "      <td id=\"T_780fc_row0_col6\" class=\"data row0 col6\" >0.324213</td>\n",
              "    </tr>\n",
              "    <tr>\n",
              "      <th id=\"T_780fc_level0_row1\" class=\"row_heading level0 row1\" >sex</th>\n",
              "      <td id=\"T_780fc_row1_col0\" class=\"data row1 col0\" >-0.053253</td>\n",
              "      <td id=\"T_780fc_row1_col1\" class=\"data row1 col1\" >1.000000</td>\n",
              "      <td id=\"T_780fc_row1_col2\" class=\"data row1 col2\" >0.015213</td>\n",
              "      <td id=\"T_780fc_row1_col3\" class=\"data row1 col3\" >0.023992</td>\n",
              "      <td id=\"T_780fc_row1_col4\" class=\"data row1 col4\" >0.068751</td>\n",
              "      <td id=\"T_780fc_row1_col5\" class=\"data row1 col5\" >-0.002937</td>\n",
              "      <td id=\"T_780fc_row1_col6\" class=\"data row1 col6\" >0.025908</td>\n",
              "    </tr>\n",
              "    <tr>\n",
              "      <th id=\"T_780fc_level0_row2\" class=\"row_heading level0 row2\" >bmi</th>\n",
              "      <td id=\"T_780fc_row2_col0\" class=\"data row2 col0\" >0.105642</td>\n",
              "      <td id=\"T_780fc_row2_col1\" class=\"data row2 col1\" >0.015213</td>\n",
              "      <td id=\"T_780fc_row2_col2\" class=\"data row2 col2\" >1.000000</td>\n",
              "      <td id=\"T_780fc_row2_col3\" class=\"data row2 col3\" >0.025009</td>\n",
              "      <td id=\"T_780fc_row2_col4\" class=\"data row2 col4\" >-0.005701</td>\n",
              "      <td id=\"T_780fc_row2_col5\" class=\"data row2 col5\" >0.141745</td>\n",
              "      <td id=\"T_780fc_row2_col6\" class=\"data row2 col6\" >0.189973</td>\n",
              "    </tr>\n",
              "    <tr>\n",
              "      <th id=\"T_780fc_level0_row3\" class=\"row_heading level0 row3\" >children</th>\n",
              "      <td id=\"T_780fc_row3_col0\" class=\"data row3 col0\" >0.033802</td>\n",
              "      <td id=\"T_780fc_row3_col1\" class=\"data row3 col1\" >0.023992</td>\n",
              "      <td id=\"T_780fc_row3_col2\" class=\"data row3 col2\" >0.025009</td>\n",
              "      <td id=\"T_780fc_row3_col3\" class=\"data row3 col3\" >1.000000</td>\n",
              "      <td id=\"T_780fc_row3_col4\" class=\"data row3 col4\" >-0.012050</td>\n",
              "      <td id=\"T_780fc_row3_col5\" class=\"data row3 col5\" >0.000552</td>\n",
              "      <td id=\"T_780fc_row3_col6\" class=\"data row3 col6\" >0.048509</td>\n",
              "    </tr>\n",
              "    <tr>\n",
              "      <th id=\"T_780fc_level0_row4\" class=\"row_heading level0 row4\" >smoker</th>\n",
              "      <td id=\"T_780fc_row4_col0\" class=\"data row4 col0\" >-0.004509</td>\n",
              "      <td id=\"T_780fc_row4_col1\" class=\"data row4 col1\" >0.068751</td>\n",
              "      <td id=\"T_780fc_row4_col2\" class=\"data row4 col2\" >-0.005701</td>\n",
              "      <td id=\"T_780fc_row4_col3\" class=\"data row4 col3\" >-0.012050</td>\n",
              "      <td id=\"T_780fc_row4_col4\" class=\"data row4 col4\" >1.000000</td>\n",
              "      <td id=\"T_780fc_row4_col5\" class=\"data row4 col5\" >-0.012810</td>\n",
              "      <td id=\"T_780fc_row4_col6\" class=\"data row4 col6\" >0.789616</td>\n",
              "    </tr>\n",
              "    <tr>\n",
              "      <th id=\"T_780fc_level0_row5\" class=\"row_heading level0 row5\" >region</th>\n",
              "      <td id=\"T_780fc_row5_col0\" class=\"data row5 col0\" >-0.006884</td>\n",
              "      <td id=\"T_780fc_row5_col1\" class=\"data row5 col1\" >-0.002937</td>\n",
              "      <td id=\"T_780fc_row5_col2\" class=\"data row5 col2\" >0.141745</td>\n",
              "      <td id=\"T_780fc_row5_col3\" class=\"data row5 col3\" >0.000552</td>\n",
              "      <td id=\"T_780fc_row5_col4\" class=\"data row5 col4\" >-0.012810</td>\n",
              "      <td id=\"T_780fc_row5_col5\" class=\"data row5 col5\" >1.000000</td>\n",
              "      <td id=\"T_780fc_row5_col6\" class=\"data row5 col6\" >-0.026971</td>\n",
              "    </tr>\n",
              "    <tr>\n",
              "      <th id=\"T_780fc_level0_row6\" class=\"row_heading level0 row6\" >charges</th>\n",
              "      <td id=\"T_780fc_row6_col0\" class=\"data row6 col0\" >0.324213</td>\n",
              "      <td id=\"T_780fc_row6_col1\" class=\"data row6 col1\" >0.025908</td>\n",
              "      <td id=\"T_780fc_row6_col2\" class=\"data row6 col2\" >0.189973</td>\n",
              "      <td id=\"T_780fc_row6_col3\" class=\"data row6 col3\" >0.048509</td>\n",
              "      <td id=\"T_780fc_row6_col4\" class=\"data row6 col4\" >0.789616</td>\n",
              "      <td id=\"T_780fc_row6_col5\" class=\"data row6 col5\" >-0.026971</td>\n",
              "      <td id=\"T_780fc_row6_col6\" class=\"data row6 col6\" >1.000000</td>\n",
              "    </tr>\n",
              "  </tbody>\n",
              "</table>\n"
            ]
          },
          "metadata": {},
          "execution_count": 27
        }
      ]
    },
    {
      "cell_type": "markdown",
      "source": [
        "Select feature by Pearson Correlation"
      ],
      "metadata": {
        "id": "YuN3zQHH4ojD"
      }
    },
    {
      "cell_type": "code",
      "source": [
        "x_train = df_train\n",
        "y_train = df_train['charges']\n",
        "y_train = y_train.to_numpy()\n",
        "x_val = df_val\n",
        "y_val = df_val['charges']\n",
        "y_val = y_val.to_numpy()\n",
        "\n",
        "x_test = df_test\n",
        "\n",
        "\n",
        "batch_size = x_train.shape[0]\n",
        "lr = 0.0001\n",
        "epochs = 1000\n",
        "\n",
        "thresholds = [0.01, 0.026, 0.04, 0.1, 0.2, 0.5]\n",
        "\n",
        "for threshold in thresholds:\n",
        "    highly_corr_features = x_train.columns[x_train.corr()['charges'].abs() > threshold]\n",
        "    highly_corr_features = highly_corr_features.drop('charges')\n",
        "    x_train_subset = x_train[highly_corr_features]\n",
        "    x_val_subset = x_val[highly_corr_features]\n",
        "    print('\\n', highly_corr_features)\n",
        "    # convert data to NumPy  \n",
        "    x_train_subset = x_train_subset.to_numpy()\n",
        "    x_val_subset = x_val_subset.to_numpy()\n",
        "    \n",
        "\n",
        "    linear_reg = LinearRegression()\n",
        "    linear_reg.fit(x_train_subset, y_train, lr=lr, epochs=epochs, batch_size=batch_size)\n",
        "    print('training loss: ', linear_reg.evaluate(x_train_subset, y_train))\n",
        "    print('validation loss: ', linear_reg.evaluate(x_val_subset, y_val))\n",
        "    "
      ],
      "metadata": {
        "id": "MwfF6DW0T9Hb",
        "colab": {
          "base_uri": "https://localhost:8080/"
        },
        "outputId": "f0cd214b-88a0-4689-9f70-03499aaeb781"
      },
      "execution_count": null,
      "outputs": [
        {
          "output_type": "stream",
          "name": "stdout",
          "text": [
            "\n",
            " Index(['age', 'sex', 'bmi', 'children', 'smoker', 'region'], dtype='object')\n",
            "Don't cheat.\n",
            "training loss:  121819964.42492533\n",
            "validation loss:  129471148.3836261\n",
            "\n",
            " Index(['age', 'bmi', 'children', 'smoker', 'region'], dtype='object')\n",
            "Don't cheat.\n",
            "training loss:  121825461.58827032\n",
            "validation loss:  129497164.5234664\n",
            "\n",
            " Index(['age', 'bmi', 'children', 'smoker'], dtype='object')\n",
            "Don't cheat.\n",
            "training loss:  122018915.3651916\n",
            "validation loss:  129674741.1591609\n",
            "\n",
            " Index(['age', 'bmi', 'smoker'], dtype='object')\n",
            "Don't cheat.\n",
            "training loss:  122050847.17972216\n",
            "validation loss:  129816528.79817545\n",
            "\n",
            " Index(['age', 'smoker'], dtype='object')\n",
            "Don't cheat.\n",
            "training loss:  124415302.30670759\n",
            "validation loss:  137676555.16453353\n",
            "\n",
            " Index(['smoker'], dtype='object')\n",
            "Don't cheat.\n",
            "training loss:  246934378.95588085\n",
            "validation loss:  267608129.26484326\n"
          ]
        }
      ]
    },
    {
      "cell_type": "markdown",
      "source": [
        "df_train box plot"
      ],
      "metadata": {
        "id": "AtOnH007AJe8"
      }
    },
    {
      "cell_type": "code",
      "source": [
        "fig, axes = plt.subplots(1,7, figsize =(30, 10))\n",
        "# Creating plot\n",
        "axes[0].boxplot(df_train['age'])\n",
        "axes[0].set_title(\"age\")\n",
        "axes[1].boxplot(df_train['sex'])\n",
        "axes[1].set_title(\"sex\")\n",
        "axes[2].boxplot(df_train['bmi'])\n",
        "axes[2].set_title(\"bmi\")\n",
        "axes[3].boxplot(df_train['children'])\n",
        "axes[3].set_title(\"children\")\n",
        "axes[4].boxplot(df_train['smoker'])\n",
        "axes[4].set_title(\"smoker\")\n",
        "axes[5].boxplot(df_train['region'])\n",
        "axes[5].set_title(\"region\")\n",
        "axes[6].boxplot(df_train['charges'])\n",
        "axes[6].set_title(\"charges\")\n",
        "# show plot\n",
        "plt.show()"
      ],
      "metadata": {
        "id": "E-hYpJYYZemh",
        "colab": {
          "base_uri": "https://localhost:8080/",
          "height": 466
        },
        "outputId": "6afe66fc-dca9-41d4-a217-654c704f99dc"
      },
      "execution_count": null,
      "outputs": [
        {
          "output_type": "display_data",
          "data": {
            "text/plain": [
              "<Figure size 2160x720 with 7 Axes>"
            ],
            "image/png": "[encoded data removed]"
          },
          "metadata": {
            "needs_background": "light"
          }
        }
      ]
    },
    {
      "cell_type": "markdown",
      "source": [
        "### Modify outlier"
      ],
      "metadata": {
        "id": "v15mJmFhdILm"
      }
    },
    {
      "cell_type": "code",
      "source": [
        "def outlier(data):\n",
        "  # finding the 1st quartile\n",
        "  q1 = np.quantile(data, 0.25)\n",
        "  \n",
        "  # finding the 3rd quartile\n",
        "  q3 = np.quantile(data, 0.75)\n",
        "  med = np.median(data)\n",
        "  \n",
        "  # finding the iqr region\n",
        "  iqr = q3-q1\n",
        "  \n",
        "  # finding upper and lower whiskers\n",
        "  upper_bound = q3+(1.5*iqr)\n",
        "  lower_bound = q1-(1.5*iqr)\n",
        "  print(upper_bound, lower_bound)\n",
        "\n",
        "  outliers = data[(data <= lower_bound) | (data >= upper_bound)]\n",
        "  \n",
        "  print('The following are the outliers in the boxplot:\\n{}'.format(outliers))\n",
        "\n",
        "  return upper_bound, lower_bound"
      ],
      "metadata": {
        "id": "8dCEh2YCfdmi"
      },
      "execution_count": null,
      "outputs": []
    },
    {
      "cell_type": "markdown",
      "source": [
        "### Encoding method comparison"
      ],
      "metadata": {
        "id": "rNzglSM741JP"
      }
    },
    {
      "cell_type": "markdown",
      "source": [
        "One-hot encoding"
      ],
      "metadata": {
        "id": "rCx0C7auv1TK"
      }
    },
    {
      "cell_type": "code",
      "source": [
        "df_train = pd.DataFrame(pd.read_csv(\"./regression_train.csv\"))\n",
        "df_val   = pd.DataFrame(pd.read_csv(\"./regression_val.csv\"))\n",
        "df_test  = pd.DataFrame(pd.read_csv(\"./regression_test.csv\"))\n",
        "\n",
        "df_train = pd.get_dummies(df_train,columns=['smoker'])\n",
        "df_val = pd.get_dummies(df_val,columns=['smoker'])\n",
        "df_test = pd.get_dummies(df_test,columns=['smoker'])\n",
        "df_train"
      ],
      "metadata": {
        "id": "2FgqsLu1wXko",
        "colab": {
          "base_uri": "https://localhost:8080/",
          "height": 423
        },
        "outputId": "ff27197d-f754-4f7e-95a0-c66b483679aa"
      },
      "execution_count": null,
      "outputs": [
        {
          "output_type": "execute_result",
          "data": {
            "text/plain": [
              "     age     sex     bmi  children     region      charges  smoker_no  \\\n",
              "0     19  female  27.900         0  southwest  16884.92400          0   \n",
              "1     18    male  33.770         1  southeast   1725.55230          1   \n",
              "2     28    male  33.000         3  southeast   4449.46200          1   \n",
              "3     33    male  22.705         0  northwest  21984.47061          1   \n",
              "4     32    male  28.880         0  northwest   3866.85520          1   \n",
              "..   ...     ...     ...       ...        ...          ...        ...   \n",
              "933   45  female  35.300         0  southwest   7348.14200          1   \n",
              "934   32    male  37.180         2  southeast   4673.39220          1   \n",
              "935   59  female  27.500         0  southwest  12233.82800          1   \n",
              "936   44    male  29.735         2  northeast  32108.66282          1   \n",
              "937   39  female  24.225         5  northwest   8965.79575          1   \n",
              "\n",
              "     smoker_yes  \n",
              "0             1  \n",
              "1             0  \n",
              "2             0  \n",
              "3             0  \n",
              "4             0  \n",
              "..          ...  \n",
              "933           0  \n",
              "934           0  \n",
              "935           0  \n",
              "936           0  \n",
              "937           0  \n",
              "\n",
              "[938 rows x 8 columns]"
            ],
            "text/html": [
              "\n",
              "  <div id=\"df-2b9760e5-8283-4ba5-92b8-6f624d855bb0\">\n",
              "    <div class=\"colab-df-container\">\n",
              "      <div>\n",
              "<style scoped>\n",
              "    .dataframe tbody tr th:only-of-type {\n",
              "        vertical-align: middle;\n",
              "    }\n",
              "\n",
              "    .dataframe tbody tr th {\n",
              "        vertical-align: top;\n",
              "    }\n",
              "\n",
              "    .dataframe thead th {\n",
              "        text-align: right;\n",
              "    }\n",
              "</style>\n",
              "<table border=\"1\" class=\"dataframe\">\n",
              "  <thead>\n",
              "    <tr style=\"text-align: right;\">\n",
              "      <th></th>\n",
              "      <th>age</th>\n",
              "      <th>sex</th>\n",
              "      <th>bmi</th>\n",
              "      <th>children</th>\n",
              "      <th>region</th>\n",
              "      <th>charges</th>\n",
              "      <th>smoker_no</th>\n",
              "      <th>smoker_yes</th>\n",
              "    </tr>\n",
              "  </thead>\n",
              "  <tbody>\n",
              "    <tr>\n",
              "      <th>0</th>\n",
              "      <td>19</td>\n",
              "      <td>female</td>\n",
              "      <td>27.900</td>\n",
              "      <td>0</td>\n",
              "      <td>southwest</td>\n",
              "      <td>16884.92400</td>\n",
              "      <td>0</td>\n",
              "      <td>1</td>\n",
              "    </tr>\n",
              "    <tr>\n",
              "      <th>1</th>\n",
              "      <td>18</td>\n",
              "      <td>male</td>\n",
              "      <td>33.770</td>\n",
              "      <td>1</td>\n",
              "      <td>southeast</td>\n",
              "      <td>1725.55230</td>\n",
              "      <td>1</td>\n",
              "      <td>0</td>\n",
              "    </tr>\n",
              "    <tr>\n",
              "      <th>2</th>\n",
              "      <td>28</td>\n",
              "      <td>male</td>\n",
              "      <td>33.000</td>\n",
              "      <td>3</td>\n",
              "      <td>southeast</td>\n",
              "      <td>4449.46200</td>\n",
              "      <td>1</td>\n",
              "      <td>0</td>\n",
              "    </tr>\n",
              "    <tr>\n",
              "      <th>3</th>\n",
              "      <td>33</td>\n",
              "      <td>male</td>\n",
              "      <td>22.705</td>\n",
              "      <td>0</td>\n",
              "      <td>northwest</td>\n",
              "      <td>21984.47061</td>\n",
              "      <td>1</td>\n",
              "      <td>0</td>\n",
              "    </tr>\n",
              "    <tr>\n",
              "      <th>4</th>\n",
              "      <td>32</td>\n",
              "      <td>male</td>\n",
              "      <td>28.880</td>\n",
              "      <td>0</td>\n",
              "      <td>northwest</td>\n",
              "      <td>3866.85520</td>\n",
              "      <td>1</td>\n",
              "      <td>0</td>\n",
              "    </tr>\n",
              "    <tr>\n",
              "      <th>...</th>\n",
              "      <td>...</td>\n",
              "      <td>...</td>\n",
              "      <td>...</td>\n",
              "      <td>...</td>\n",
              "      <td>...</td>\n",
              "      <td>...</td>\n",
              "      <td>...</td>\n",
              "      <td>...</td>\n",
              "    </tr>\n",
              "    <tr>\n",
              "      <th>933</th>\n",
              "      <td>45</td>\n",
              "      <td>female</td>\n",
              "      <td>35.300</td>\n",
              "      <td>0</td>\n",
              "      <td>southwest</td>\n",
              "      <td>7348.14200</td>\n",
              "      <td>1</td>\n",
              "      <td>0</td>\n",
              "    </tr>\n",
              "    <tr>\n",
              "      <th>934</th>\n",
              "      <td>32</td>\n",
              "      <td>male</td>\n",
              "      <td>37.180</td>\n",
              "      <td>2</td>\n",
              "      <td>southeast</td>\n",
              "      <td>4673.39220</td>\n",
              "      <td>1</td>\n",
              "      <td>0</td>\n",
              "    </tr>\n",
              "    <tr>\n",
              "      <th>935</th>\n",
              "      <td>59</td>\n",
              "      <td>female</td>\n",
              "      <td>27.500</td>\n",
              "      <td>0</td>\n",
              "      <td>southwest</td>\n",
              "      <td>12233.82800</td>\n",
              "      <td>1</td>\n",
              "      <td>0</td>\n",
              "    </tr>\n",
              "    <tr>\n",
              "      <th>936</th>\n",
              "      <td>44</td>\n",
              "      <td>male</td>\n",
              "      <td>29.735</td>\n",
              "      <td>2</td>\n",
              "      <td>northeast</td>\n",
              "      <td>32108.66282</td>\n",
              "      <td>1</td>\n",
              "      <td>0</td>\n",
              "    </tr>\n",
              "    <tr>\n",
              "      <th>937</th>\n",
              "      <td>39</td>\n",
              "      <td>female</td>\n",
              "      <td>24.225</td>\n",
              "      <td>5</td>\n",
              "      <td>northwest</td>\n",
              "      <td>8965.79575</td>\n",
              "      <td>1</td>\n",
              "      <td>0</td>\n",
              "    </tr>\n",
              "  </tbody>\n",
              "</table>\n",
              "<p>938 rows × 8 columns</p>\n",
              "</div>\n",
              "      <button class=\"colab-df-convert\" onclick=\"convertToInteractive('df-2b9760e5-8283-4ba5-92b8-6f624d855bb0')\"\n",
              "              title=\"Convert this dataframe to an interactive table.\"\n",
              "              style=\"display:none;\">\n",
              "        \n",
              "  <svg xmlns=\"http://www.w3.org/2000/svg\" height=\"24px\"viewBox=\"0 0 24 24\"\n",
              "       width=\"24px\">\n",
              "    <path d=\"M0 0h24v24H0V0z\" fill=\"none\"/>\n",
              "    <path d=\"M18.56 5.44l.94 2.06.94-2.06 2.06-.94-2.06-.94-.94-2.06-.94 2.06-2.06.94zm-11 1L8.5 8.5l.94-2.06 2.06-.94-2.06-.94L8.5 2.5l-.94 2.06-2.06.94zm10 10l.94 2.06.94-2.06 2.06-.94-2.06-.94-.94-2.06-.94 2.06-2.06.94z\"/><path d=\"M17.41 7.96l-1.37-1.37c-.4-.4-.92-.59-1.43-.59-.52 0-1.04.2-1.43.59L10.3 9.45l-7.72 7.72c-.78.78-.78 2.05 0 2.83L4 21.41c.39.39.9.59 1.41.59.51 0 1.02-.2 1.41-.59l7.78-7.78 2.81-2.81c.8-.78.8-2.07 0-2.86zM5.41 20L4 18.59l7.72-7.72 1.47 1.35L5.41 20z\"/>\n",
              "  </svg>\n",
              "      </button>\n",
              "      \n",
              "  <style>\n",
              "    .colab-df-container {\n",
              "      display:flex;\n",
              "      flex-wrap:wrap;\n",
              "      gap: 12px;\n",
              "    }\n",
              "\n",
              "    .colab-df-convert {\n",
              "      background-color: #E8F0FE;\n",
              "      border: none;\n",
              "      border-radius: 50%;\n",
              "      cursor: pointer;\n",
              "      display: none;\n",
              "      fill: #1967D2;\n",
              "      height: 32px;\n",
              "      padding: 0 0 0 0;\n",
              "      width: 32px;\n",
              "    }\n",
              "\n",
              "    .colab-df-convert:hover {\n",
              "      background-color: #E2EBFA;\n",
              "      box-shadow: 0px 1px 2px rgba(60, 64, 67, 0.3), 0px 1px 3px 1px rgba(60, 64, 67, 0.15);\n",
              "      fill: #174EA6;\n",
              "    }\n",
              "\n",
              "    [theme=dark] .colab-df-convert {\n",
              "      background-color: #3B4455;\n",
              "      fill: #D2E3FC;\n",
              "    }\n",
              "\n",
              "    [theme=dark] .colab-df-convert:hover {\n",
              "      background-color: #434B5C;\n",
              "      box-shadow: 0px 1px 3px 1px rgba(0, 0, 0, 0.15);\n",
              "      filter: drop-shadow(0px 1px 2px rgba(0, 0, 0, 0.3));\n",
              "      fill: #FFFFFF;\n",
              "    }\n",
              "  </style>\n",
              "\n",
              "      <script>\n",
              "        const buttonEl =\n",
              "          document.querySelector('#df-2b9760e5-8283-4ba5-92b8-6f624d855bb0 button.colab-df-convert');\n",
              "        buttonEl.style.display =\n",
              "          google.colab.kernel.accessAllowed ? 'block' : 'none';\n",
              "\n",
              "        async function convertToInteractive(key) {\n",
              "          const element = document.querySelector('#df-2b9760e5-8283-4ba5-92b8-6f624d855bb0');\n",
              "          const dataTable =\n",
              "            await google.colab.kernel.invokeFunction('convertToInteractive',\n",
              "                                                     [key], {});\n",
              "          if (!dataTable) return;\n",
              "\n",
              "          const docLinkHtml = 'Like what you see? Visit the ' +\n",
              "            '<a target=\"_blank\" href=https://colab.research.google.com/notebooks/data_table.ipynb>data table notebook</a>'\n",
              "            + ' to learn more about interactive tables.';\n",
              "          element.innerHTML = '';\n",
              "          dataTable['output_type'] = 'display_data';\n",
              "          await google.colab.output.renderOutput(dataTable, element);\n",
              "          const docLink = document.createElement('div');\n",
              "          docLink.innerHTML = docLinkHtml;\n",
              "          element.appendChild(docLink);\n",
              "        }\n",
              "      </script>\n",
              "    </div>\n",
              "  </div>\n",
              "  "
            ]
          },
          "metadata": {},
          "execution_count": 48
        }
      ]
    },
    {
      "cell_type": "code",
      "source": [
        "dict = {\"female\":0, \"male\":1, \"no\":0, \"yes\":1, \"northeast\":0, \"northwest\":1,\"southeast\":2,\"southwest\":3}\n",
        "df_train[\"sex\"] = df_train[\"sex\"].map(dict)\n",
        "df_train[\"region\"] = df_train[\"region\"].map(dict)\n",
        "print(df_train)\n",
        "\n",
        "df_val[\"sex\"] = df_val[\"sex\"].map(dict)\n",
        "df_val[\"region\"] = df_val[\"region\"].map(dict)\n",
        "\n",
        "df_test[\"sex\"] = df_test[\"sex\"].map(dict)\n",
        "df_test[\"region\"] = df_test[\"region\"].map(dict)"
      ],
      "metadata": {
        "id": "c_0Db7wQKIrv",
        "colab": {
          "base_uri": "https://localhost:8080/"
        },
        "outputId": "d8df7a1b-e878-47c2-8f33-455d068c9746"
      },
      "execution_count": null,
      "outputs": [
        {
          "output_type": "stream",
          "name": "stdout",
          "text": [
            "     age  sex     bmi  children  region      charges  smoker_no  smoker_yes\n",
            "0     19    0  27.900         0       3  16884.92400          0           1\n",
            "1     18    1  33.770         1       2   1725.55230          1           0\n",
            "2     28    1  33.000         3       2   4449.46200          1           0\n",
            "3     33    1  22.705         0       1  21984.47061          1           0\n",
            "4     32    1  28.880         0       1   3866.85520          1           0\n",
            "..   ...  ...     ...       ...     ...          ...        ...         ...\n",
            "933   45    0  35.300         0       3   7348.14200          1           0\n",
            "934   32    1  37.180         2       2   4673.39220          1           0\n",
            "935   59    0  27.500         0       3  12233.82800          1           0\n",
            "936   44    1  29.735         2       0  32108.66282          1           0\n",
            "937   39    0  24.225         5       1   8965.79575          1           0\n",
            "\n",
            "[938 rows x 8 columns]\n"
          ]
        }
      ]
    },
    {
      "cell_type": "code",
      "source": [
        "x_train = df_train.drop(['charges'], axis=1)\n",
        "y_train = df_train['charges']\n",
        "\n",
        "x_val = df_val.drop(['charges'], axis=1)\n",
        "y_val = df_val['charges']\n",
        "\n",
        "x_test = df_test.drop(['charges'], axis=1)\n",
        "\n",
        "# convert data to NumPy here \n",
        "x_train = x_train.to_numpy()\n",
        "y_train = y_train.to_numpy()\n",
        "\n",
        "x_val = x_val.to_numpy()\n",
        "y_val = y_val.to_numpy()\n",
        "\n",
        "x_test = x_test.to_numpy()\n",
        "\n",
        "# Standardization\n",
        "x_train = (x_train - x_train.mean())/(x_train.std())\n",
        "x_val = (x_val - x_val.mean())/(x_val.std())\n",
        "x_test = (x_test - x_test.mean())/(x_test.std())\n",
        "\n",
        "# training\n",
        "batch_size = x_train.shape[0]\n",
        "\n",
        "lr = 0.001   \n",
        "epochs = 10000\n",
        "\n",
        "linear_reg = LinearRegression()\n",
        "linear_reg.fit(x_train, y_train, lr=lr, epochs=epochs, batch_size=batch_size)\n",
        "print(\"Intercepts: \", linear_reg.bias)\n",
        "print(\"Weights: \", linear_reg.weights)\n",
        "print('training loss: ', linear_reg.evaluate(x_train, y_train))\n",
        "print('validation loss: ', linear_reg.evaluate(x_val, y_val))"
      ],
      "metadata": {
        "id": "usUxO_gtJepO",
        "colab": {
          "base_uri": "https://localhost:8080/"
        },
        "outputId": "ca60fe0e-7c69-475e-f06b-20231f2f5a39"
      },
      "execution_count": null,
      "outputs": [
        {
          "output_type": "stream",
          "name": "stdout",
          "text": [
            "Don't cheat.\n",
            "Intercepts:  156.27708503270313\n",
            "Weights:  [ 4341.42201145   190.95459867  4661.84158875   531.31050586\n",
            "  -666.98366887 -4541.02666488  4352.03456146]\n",
            "training loss:  122038555.1695654\n",
            "validation loss:  129325467.88297674\n"
          ]
        }
      ]
    },
    {
      "cell_type": "markdown",
      "source": [
        "Target encoding"
      ],
      "metadata": {
        "id": "ZjoeWM-qFKqv"
      }
    },
    {
      "cell_type": "code",
      "source": [
        "df_train = pd.DataFrame(pd.read_csv(\"./regression_train.csv\"))\n",
        "df_val   = pd.DataFrame(pd.read_csv(\"./regression_val.csv\"))\n",
        "df_test  = pd.DataFrame(pd.read_csv(\"./regression_test.csv\"))"
      ],
      "metadata": {
        "id": "KkIO3A_7FYhL"
      },
      "execution_count": null,
      "outputs": []
    },
    {
      "cell_type": "code",
      "source": [
        "df_train[\"smoker\"] = df_train.groupby(\"smoker\")[\"charges\"].transform(\"mean\")\n",
        "df_val[\"smoker\"] = df_val.groupby(\"smoker\")[\"charges\"].transform(\"mean\")\n",
        "df_test[\"smoker\"] = df_val.groupby(\"smoker\")[\"charges\"].transform(\"mean\")\n",
        "\n",
        "dict = {\"female\":1, \"male\":2, \"no\":0, \"yes\":1, \"northeast\":0, \"northwest\":1,\"southeast\":2,\"southwest\":3}\n",
        "df_train[\"sex\"] = df_train[\"sex\"].map(dict)\n",
        "df_train[\"region\"] = df_train[\"region\"].map(dict)\n",
        "\n",
        "df_val[\"sex\"] = df_val[\"sex\"].map(dict)\n",
        "df_val[\"region\"] = df_val[\"region\"].map(dict)\n",
        "\n",
        "df_test[\"sex\"] = df_test[\"sex\"].map(dict)\n",
        "df_test[\"region\"] = df_test[\"region\"].map(dict)\n",
        "\n",
        "df_train.head "
      ],
      "metadata": {
        "id": "iMACmm6BFMit",
        "colab": {
          "base_uri": "https://localhost:8080/"
        },
        "outputId": "b5b10f3e-5d1d-46a3-9b8c-291dfe29a6ac"
      },
      "execution_count": null,
      "outputs": [
        {
          "output_type": "execute_result",
          "data": {
            "text/plain": [
              "<bound method NDFrame.head of      age  sex     bmi  children        smoker  region      charges\n",
              "0     19    1  27.900         0  32362.851486       3  16884.92400\n",
              "1     18    2  33.770         1   8435.771213       2   1725.55230\n",
              "2     28    2  33.000         3   8435.771213       2   4449.46200\n",
              "3     33    2  22.705         0   8435.771213       1  21984.47061\n",
              "4     32    2  28.880         0   8435.771213       1   3866.85520\n",
              "..   ...  ...     ...       ...           ...     ...          ...\n",
              "933   45    1  35.300         0   8435.771213       3   7348.14200\n",
              "934   32    2  37.180         2   8435.771213       2   4673.39220\n",
              "935   59    1  27.500         0   8435.771213       3  12233.82800\n",
              "936   44    2  29.735         2   8435.771213       0  32108.66282\n",
              "937   39    1  24.225         5   8435.771213       1   8965.79575\n",
              "\n",
              "[938 rows x 7 columns]>"
            ]
          },
          "metadata": {},
          "execution_count": 137
        }
      ]
    },
    {
      "cell_type": "code",
      "source": [
        "x_train = df_train.drop(['charges'], axis=1)\n",
        "y_train = df_train['charges']\n",
        "\n",
        "x_val = df_val.drop(['charges'], axis=1)\n",
        "y_val = df_val['charges']\n",
        "\n",
        "x_test = df_test.drop(['charges'], axis=1)\n",
        "\n",
        "# convert data to NumPy here \n",
        "x_train = x_train.to_numpy()\n",
        "y_train = y_train.to_numpy()\n",
        "\n",
        "x_val = x_val.to_numpy()\n",
        "y_val = y_val.to_numpy()\n",
        "\n",
        "x_test = x_test.to_numpy()\n",
        "\n",
        "# Standardization\n",
        "x_train = (x_train - x_train.mean())/(x_train.std())\n",
        "x_val = (x_val - x_val.mean())/(x_val.std())\n",
        "x_test = (x_test - x_test.mean())/(x_test.std())\n",
        "\n",
        "# training\n",
        "batch_size = x_train.shape[0]\n",
        "\n",
        "lr = 0.001   \n",
        "epochs = 10000\n",
        "\n",
        "linear_reg = LinearRegression()\n",
        "linear_reg.fit(x_train, y_train, lr=lr, epochs=epochs, batch_size=batch_size)\n",
        "print(\"Intercepts: \", linear_reg.bias)\n",
        "print(\"Weights: \", linear_reg.weights)\n",
        "print('training loss: ', linear_reg.evaluate(x_train, y_train))\n",
        "print('validation loss: ', linear_reg.evaluate(x_val, y_val))"
      ],
      "metadata": {
        "id": "__pbslEOImYc",
        "colab": {
          "base_uri": "https://localhost:8080/"
        },
        "outputId": "fa599336-93dd-4bd3-ae8e-ee66ef96bd05"
      },
      "execution_count": null,
      "outputs": [
        {
          "output_type": "stream",
          "name": "stdout",
          "text": [
            "Don't cheat.\n",
            "Intercepts:  1409.087208096666\n",
            "Weights:  [-307.72536987 -497.17158113 -444.84814564 -494.06607632 6241.4734287\n",
            " -497.3586147 ]\n",
            "training loss:  54520975.11008555\n",
            "validation loss:  58687292.09539316\n"
          ]
        }
      ]
    },
    {
      "cell_type": "markdown",
      "source": [
        "### Train my own model"
      ],
      "metadata": {
        "id": "g7RYrW-t6BRm"
      }
    },
    {
      "cell_type": "code",
      "source": [
        "df_train = pd.DataFrame(pd.read_csv(\"./regression_train.csv\"))\n",
        "df_val   = pd.DataFrame(pd.read_csv(\"./regression_val.csv\"))\n",
        "df_test  = pd.DataFrame(pd.read_csv(\"./regression_test.csv\"))\n",
        "\n",
        "# target encoding\n",
        "df_train[\"smoker\"] = df_train.groupby(\"smoker\")[\"charges\"].transform(\"mean\")\n",
        "df_val[\"smoker\"] = df_val.groupby(\"smoker\")[\"charges\"].transform(\"mean\")\n",
        "df_test[\"smoker\"] = df_val.groupby(\"smoker\")[\"charges\"].transform(\"mean\")\n",
        "\n",
        "\n",
        "dict = {\"female\":1, \"male\":2, \"no\":0, \"yes\":1, \"northeast\":0, \"northwest\":1,\"southeast\":2,\"southwest\":3}\n",
        "df_train[\"sex\"] = df_train[\"sex\"].map(dict)\n",
        "df_train[\"region\"] = df_train[\"region\"].map(dict)\n",
        "\n",
        "print(df_train)\n",
        "df_val[\"sex\"] = df_val[\"sex\"].map(dict)\n",
        "df_val[\"region\"] = df_val[\"region\"].map(dict)\n",
        "\n",
        "df_test[\"sex\"] = df_test[\"sex\"].map(dict)\n",
        "df_test[\"region\"] = df_test[\"region\"].map(dict)"
      ],
      "metadata": {
        "id": "G0cGl6Du_LHx",
        "colab": {
          "base_uri": "https://localhost:8080/"
        },
        "outputId": "d5179502-a68c-4d0e-ebb3-36a288478fc5"
      },
      "execution_count": null,
      "outputs": [
        {
          "output_type": "stream",
          "name": "stdout",
          "text": [
            "     age  sex     bmi  children        smoker  region      charges\n",
            "0     19    1  27.900         0  32362.851486       3  16884.92400\n",
            "1     18    2  33.770         1   8435.771213       2   1725.55230\n",
            "2     28    2  33.000         3   8435.771213       2   4449.46200\n",
            "3     33    2  22.705         0   8435.771213       1  21984.47061\n",
            "4     32    2  28.880         0   8435.771213       1   3866.85520\n",
            "..   ...  ...     ...       ...           ...     ...          ...\n",
            "933   45    1  35.300         0   8435.771213       3   7348.14200\n",
            "934   32    2  37.180         2   8435.771213       2   4673.39220\n",
            "935   59    1  27.500         0   8435.771213       3  12233.82800\n",
            "936   44    2  29.735         2   8435.771213       0  32108.66282\n",
            "937   39    1  24.225         5   8435.771213       1   8965.79575\n",
            "\n",
            "[938 rows x 7 columns]\n"
          ]
        }
      ]
    },
    {
      "cell_type": "code",
      "source": [
        "# modify outlier\n",
        "bmi_upper_bound, bmi_lower_bound = outlier(df_train['bmi'])\n",
        "bmi_median = np.percentile(df_train['bmi'], 50)        # median of df_train['bmi']\n",
        "df_train.loc[(df_train['bmi'] <bmi_lower_bound) | (df_train['bmi']>bmi_upper_bound), 'bmi'] = bmi_median\n",
        "\n",
        "# create new features\n",
        "x_train = df_train.drop(['charges'], axis=1)\n",
        "x_train['sex_smoker'] = df_train['sex']*df_train['smoker']\n",
        "x_train['bmi_smoker'] = df_train['bmi']*df_train['smoker']\n",
        "x_train['children_smoker'] = df_train['children']*df_train['smoker']\n",
        "x_train['region_smoker'] = df_train['region']*df_train['smoker']\n",
        "x_train['region_bmi'] = df_train['region']*df_train['bmi']\n",
        "x_train['age_bmi'] = df_train['age']*df_train['bmi']\n",
        "y_train = df_train['charges']\n",
        "#print(x_train)\n",
        "\n",
        "x_val = df_val.drop(['charges'], axis=1)\n",
        "x_val['sex_smoker'] = df_val['sex']*df_val['smoker']\n",
        "x_val['bmi_smoker'] = df_val['bmi']*df_val['smoker']\n",
        "x_val['children_smoker'] = df_val['children']*df_val['smoker']\n",
        "x_val['region_smoker'] = df_val['region']*df_val['smoker']\n",
        "x_val['region_bmi'] = df_val['region']*df_val['bmi']\n",
        "x_val['age_bmi'] = df_val['age']*df_val['bmi']\n",
        "y_val = df_val['charges']\n",
        "\n",
        "x_test = df_test.drop(['charges'], axis=1)\n",
        "x_test['sex_smoker'] = df_test['sex']*df_test['smoker']\n",
        "x_test['bmi_smoker'] = df_test['bmi']*df_test['smoker']\n",
        "x_test['children_smoker'] = df_test['children']*df_test['smoker']\n",
        "x_test['region_smoker'] = df_test['region']*df_test['smoker']\n",
        "x_test['region_bmi'] = df_test['region']*df_test['bmi']\n",
        "x_test['age_bmi'] = df_test['age']*df_test['bmi']\n",
        "\n",
        "x_train"
      ],
      "metadata": {
        "id": "-uKQKL08XQ8n",
        "colab": {
          "base_uri": "https://localhost:8080/",
          "height": 532
        },
        "outputId": "6c0c2d86-4181-44d8-f5fe-f32b9f606d49"
      },
      "execution_count": null,
      "outputs": [
        {
          "output_type": "stream",
          "name": "stdout",
          "text": [
            "47.73625000000001 13.926249999999994\n",
            "The following are the outliers in the boxplot:\n",
            "116    49.06\n",
            "286    48.07\n",
            "847    50.38\n",
            "Name: bmi, dtype: float64\n"
          ]
        },
        {
          "output_type": "execute_result",
          "data": {
            "text/plain": [
              "     age  sex     bmi  children        smoker  region    sex_smoker  \\\n",
              "0     19    1  27.900         0  32362.851486       3  32362.851486   \n",
              "1     18    2  33.770         1   8435.771213       2  16871.542426   \n",
              "2     28    2  33.000         3   8435.771213       2  16871.542426   \n",
              "3     33    2  22.705         0   8435.771213       1  16871.542426   \n",
              "4     32    2  28.880         0   8435.771213       1  16871.542426   \n",
              "..   ...  ...     ...       ...           ...     ...           ...   \n",
              "933   45    1  35.300         0   8435.771213       3   8435.771213   \n",
              "934   32    2  37.180         2   8435.771213       2  16871.542426   \n",
              "935   59    1  27.500         0   8435.771213       3   8435.771213   \n",
              "936   44    2  29.735         2   8435.771213       0  16871.542426   \n",
              "937   39    1  24.225         5   8435.771213       1   8435.771213   \n",
              "\n",
              "        bmi_smoker  children_smoker  region_smoker  region_bmi   age_bmi  \n",
              "0    902923.556457         0.000000   97088.554458      83.700   530.100  \n",
              "1    284875.993855      8435.771213   16871.542426      67.540   607.860  \n",
              "2    278380.450021     25307.313638   16871.542426      66.000   924.000  \n",
              "3    191534.185386         0.000000    8435.771213      22.705   749.265  \n",
              "4    243625.072624         0.000000    8435.771213      28.880   924.160  \n",
              "..             ...              ...            ...         ...       ...  \n",
              "933  297782.723810         0.000000   25307.313638     105.900  1588.500  \n",
              "934  313641.973690     16871.542426   16871.542426      74.360  1189.760  \n",
              "935  231983.708351         0.000000   25307.313638      82.500  1622.500  \n",
              "936  250837.657011     16871.542426       0.000000       0.000  1308.340  \n",
              "937  204356.557629     42178.856064    8435.771213      24.225   944.775  \n",
              "\n",
              "[938 rows x 12 columns]"
            ],
            "text/html": [
              "\n",
              "  <div id=\"df-f71e8cc2-fba2-4fcc-8d46-fca8adcdd8bf\">\n",
              "    <div class=\"colab-df-container\">\n",
              "      <div>\n",
              "<style scoped>\n",
              "    .dataframe tbody tr th:only-of-type {\n",
              "        vertical-align: middle;\n",
              "    }\n",
              "\n",
              "    .dataframe tbody tr th {\n",
              "        vertical-align: top;\n",
              "    }\n",
              "\n",
              "    .dataframe thead th {\n",
              "        text-align: right;\n",
              "    }\n",
              "</style>\n",
              "<table border=\"1\" class=\"dataframe\">\n",
              "  <thead>\n",
              "    <tr style=\"text-align: right;\">\n",
              "      <th></th>\n",
              "      <th>age</th>\n",
              "      <th>sex</th>\n",
              "      <th>bmi</th>\n",
              "      <th>children</th>\n",
              "      <th>smoker</th>\n",
              "      <th>region</th>\n",
              "      <th>sex_smoker</th>\n",
              "      <th>bmi_smoker</th>\n",
              "      <th>children_smoker</th>\n",
              "      <th>region_smoker</th>\n",
              "      <th>region_bmi</th>\n",
              "      <th>age_bmi</th>\n",
              "    </tr>\n",
              "  </thead>\n",
              "  <tbody>\n",
              "    <tr>\n",
              "      <th>0</th>\n",
              "      <td>19</td>\n",
              "      <td>1</td>\n",
              "      <td>27.900</td>\n",
              "      <td>0</td>\n",
              "      <td>32362.851486</td>\n",
              "      <td>3</td>\n",
              "      <td>32362.851486</td>\n",
              "      <td>902923.556457</td>\n",
              "      <td>0.000000</td>\n",
              "      <td>97088.554458</td>\n",
              "      <td>83.700</td>\n",
              "      <td>530.100</td>\n",
              "    </tr>\n",
              "    <tr>\n",
              "      <th>1</th>\n",
              "      <td>18</td>\n",
              "      <td>2</td>\n",
              "      <td>33.770</td>\n",
              "      <td>1</td>\n",
              "      <td>8435.771213</td>\n",
              "      <td>2</td>\n",
              "      <td>16871.542426</td>\n",
              "      <td>284875.993855</td>\n",
              "      <td>8435.771213</td>\n",
              "      <td>16871.542426</td>\n",
              "      <td>67.540</td>\n",
              "      <td>607.860</td>\n",
              "    </tr>\n",
              "    <tr>\n",
              "      <th>2</th>\n",
              "      <td>28</td>\n",
              "      <td>2</td>\n",
              "      <td>33.000</td>\n",
              "      <td>3</td>\n",
              "      <td>8435.771213</td>\n",
              "      <td>2</td>\n",
              "      <td>16871.542426</td>\n",
              "      <td>278380.450021</td>\n",
              "      <td>25307.313638</td>\n",
              "      <td>16871.542426</td>\n",
              "      <td>66.000</td>\n",
              "      <td>924.000</td>\n",
              "    </tr>\n",
              "    <tr>\n",
              "      <th>3</th>\n",
              "      <td>33</td>\n",
              "      <td>2</td>\n",
              "      <td>22.705</td>\n",
              "      <td>0</td>\n",
              "      <td>8435.771213</td>\n",
              "      <td>1</td>\n",
              "      <td>16871.542426</td>\n",
              "      <td>191534.185386</td>\n",
              "      <td>0.000000</td>\n",
              "      <td>8435.771213</td>\n",
              "      <td>22.705</td>\n",
              "      <td>749.265</td>\n",
              "    </tr>\n",
              "    <tr>\n",
              "      <th>4</th>\n",
              "      <td>32</td>\n",
              "      <td>2</td>\n",
              "      <td>28.880</td>\n",
              "      <td>0</td>\n",
              "      <td>8435.771213</td>\n",
              "      <td>1</td>\n",
              "      <td>16871.542426</td>\n",
              "      <td>243625.072624</td>\n",
              "      <td>0.000000</td>\n",
              "      <td>8435.771213</td>\n",
              "      <td>28.880</td>\n",
              "      <td>924.160</td>\n",
              "    </tr>\n",
              "    <tr>\n",
              "      <th>...</th>\n",
              "      <td>...</td>\n",
              "      <td>...</td>\n",
              "      <td>...</td>\n",
              "      <td>...</td>\n",
              "      <td>...</td>\n",
              "      <td>...</td>\n",
              "      <td>...</td>\n",
              "      <td>...</td>\n",
              "      <td>...</td>\n",
              "      <td>...</td>\n",
              "      <td>...</td>\n",
              "      <td>...</td>\n",
              "    </tr>\n",
              "    <tr>\n",
              "      <th>933</th>\n",
              "      <td>45</td>\n",
              "      <td>1</td>\n",
              "      <td>35.300</td>\n",
              "      <td>0</td>\n",
              "      <td>8435.771213</td>\n",
              "      <td>3</td>\n",
              "      <td>8435.771213</td>\n",
              "      <td>297782.723810</td>\n",
              "      <td>0.000000</td>\n",
              "      <td>25307.313638</td>\n",
              "      <td>105.900</td>\n",
              "      <td>1588.500</td>\n",
              "    </tr>\n",
              "    <tr>\n",
              "      <th>934</th>\n",
              "      <td>32</td>\n",
              "      <td>2</td>\n",
              "      <td>37.180</td>\n",
              "      <td>2</td>\n",
              "      <td>8435.771213</td>\n",
              "      <td>2</td>\n",
              "      <td>16871.542426</td>\n",
              "      <td>313641.973690</td>\n",
              "      <td>16871.542426</td>\n",
              "      <td>16871.542426</td>\n",
              "      <td>74.360</td>\n",
              "      <td>1189.760</td>\n",
              "    </tr>\n",
              "    <tr>\n",
              "      <th>935</th>\n",
              "      <td>59</td>\n",
              "      <td>1</td>\n",
              "      <td>27.500</td>\n",
              "      <td>0</td>\n",
              "      <td>8435.771213</td>\n",
              "      <td>3</td>\n",
              "      <td>8435.771213</td>\n",
              "      <td>231983.708351</td>\n",
              "      <td>0.000000</td>\n",
              "      <td>25307.313638</td>\n",
              "      <td>82.500</td>\n",
              "      <td>1622.500</td>\n",
              "    </tr>\n",
              "    <tr>\n",
              "      <th>936</th>\n",
              "      <td>44</td>\n",
              "      <td>2</td>\n",
              "      <td>29.735</td>\n",
              "      <td>2</td>\n",
              "      <td>8435.771213</td>\n",
              "      <td>0</td>\n",
              "      <td>16871.542426</td>\n",
              "      <td>250837.657011</td>\n",
              "      <td>16871.542426</td>\n",
              "      <td>0.000000</td>\n",
              "      <td>0.000</td>\n",
              "      <td>1308.340</td>\n",
              "    </tr>\n",
              "    <tr>\n",
              "      <th>937</th>\n",
              "      <td>39</td>\n",
              "      <td>1</td>\n",
              "      <td>24.225</td>\n",
              "      <td>5</td>\n",
              "      <td>8435.771213</td>\n",
              "      <td>1</td>\n",
              "      <td>8435.771213</td>\n",
              "      <td>204356.557629</td>\n",
              "      <td>42178.856064</td>\n",
              "      <td>8435.771213</td>\n",
              "      <td>24.225</td>\n",
              "      <td>944.775</td>\n",
              "    </tr>\n",
              "  </tbody>\n",
              "</table>\n",
              "<p>938 rows × 12 columns</p>\n",
              "</div>\n",
              "      <button class=\"colab-df-convert\" onclick=\"convertToInteractive('df-f71e8cc2-fba2-4fcc-8d46-fca8adcdd8bf')\"\n",
              "              title=\"Convert this dataframe to an interactive table.\"\n",
              "              style=\"display:none;\">\n",
              "        \n",
              "  <svg xmlns=\"http://www.w3.org/2000/svg\" height=\"24px\"viewBox=\"0 0 24 24\"\n",
              "       width=\"24px\">\n",
              "    <path d=\"M0 0h24v24H0V0z\" fill=\"none\"/>\n",
              "    <path d=\"M18.56 5.44l.94 2.06.94-2.06 2.06-.94-2.06-.94-.94-2.06-.94 2.06-2.06.94zm-11 1L8.5 8.5l.94-2.06 2.06-.94-2.06-.94L8.5 2.5l-.94 2.06-2.06.94zm10 10l.94 2.06.94-2.06 2.06-.94-2.06-.94-.94-2.06-.94 2.06-2.06.94z\"/><path d=\"M17.41 7.96l-1.37-1.37c-.4-.4-.92-.59-1.43-.59-.52 0-1.04.2-1.43.59L10.3 9.45l-7.72 7.72c-.78.78-.78 2.05 0 2.83L4 21.41c.39.39.9.59 1.41.59.51 0 1.02-.2 1.41-.59l7.78-7.78 2.81-2.81c.8-.78.8-2.07 0-2.86zM5.41 20L4 18.59l7.72-7.72 1.47 1.35L5.41 20z\"/>\n",
              "  </svg>\n",
              "      </button>\n",
              "      \n",
              "  <style>\n",
              "    .colab-df-container {\n",
              "      display:flex;\n",
              "      flex-wrap:wrap;\n",
              "      gap: 12px;\n",
              "    }\n",
              "\n",
              "    .colab-df-convert {\n",
              "      background-color: #E8F0FE;\n",
              "      border: none;\n",
              "      border-radius: 50%;\n",
              "      cursor: pointer;\n",
              "      display: none;\n",
              "      fill: #1967D2;\n",
              "      height: 32px;\n",
              "      padding: 0 0 0 0;\n",
              "      width: 32px;\n",
              "    }\n",
              "\n",
              "    .colab-df-convert:hover {\n",
              "      background-color: #E2EBFA;\n",
              "      box-shadow: 0px 1px 2px rgba(60, 64, 67, 0.3), 0px 1px 3px 1px rgba(60, 64, 67, 0.15);\n",
              "      fill: #174EA6;\n",
              "    }\n",
              "\n",
              "    [theme=dark] .colab-df-convert {\n",
              "      background-color: #3B4455;\n",
              "      fill: #D2E3FC;\n",
              "    }\n",
              "\n",
              "    [theme=dark] .colab-df-convert:hover {\n",
              "      background-color: #434B5C;\n",
              "      box-shadow: 0px 1px 3px 1px rgba(0, 0, 0, 0.15);\n",
              "      filter: drop-shadow(0px 1px 2px rgba(0, 0, 0, 0.3));\n",
              "      fill: #FFFFFF;\n",
              "    }\n",
              "  </style>\n",
              "\n",
              "      <script>\n",
              "        const buttonEl =\n",
              "          document.querySelector('#df-f71e8cc2-fba2-4fcc-8d46-fca8adcdd8bf button.colab-df-convert');\n",
              "        buttonEl.style.display =\n",
              "          google.colab.kernel.accessAllowed ? 'block' : 'none';\n",
              "\n",
              "        async function convertToInteractive(key) {\n",
              "          const element = document.querySelector('#df-f71e8cc2-fba2-4fcc-8d46-fca8adcdd8bf');\n",
              "          const dataTable =\n",
              "            await google.colab.kernel.invokeFunction('convertToInteractive',\n",
              "                                                     [key], {});\n",
              "          if (!dataTable) return;\n",
              "\n",
              "          const docLinkHtml = 'Like what you see? Visit the ' +\n",
              "            '<a target=\"_blank\" href=https://colab.research.google.com/notebooks/data_table.ipynb>data table notebook</a>'\n",
              "            + ' to learn more about interactive tables.';\n",
              "          element.innerHTML = '';\n",
              "          dataTable['output_type'] = 'display_data';\n",
              "          await google.colab.output.renderOutput(dataTable, element);\n",
              "          const docLink = document.createElement('div');\n",
              "          docLink.innerHTML = docLinkHtml;\n",
              "          element.appendChild(docLink);\n",
              "        }\n",
              "      </script>\n",
              "    </div>\n",
              "  </div>\n",
              "  "
            ]
          },
          "metadata": {},
          "execution_count": 153
        }
      ]
    },
    {
      "cell_type": "code",
      "source": [
        "# Standardization\n",
        "x_train = (x_train - x_train.mean())/(x_train.std())\n",
        "x_val = (x_val - x_val.mean())/(x_val.std())\n",
        "x_test = (x_test - x_test.mean())/(x_test.std())\n",
        "\n",
        "# convert data to NumPy  \n",
        "x_train = x_train.to_numpy()\n",
        "y_train = y_train.to_numpy()\n",
        "\n",
        "x_val = x_val.to_numpy()\n",
        "y_val = y_val.to_numpy()\n",
        "\n",
        "x_test = x_test.to_numpy()"
      ],
      "metadata": {
        "id": "Td4Qpi3ZZ2fa"
      },
      "execution_count": null,
      "outputs": []
    },
    {
      "cell_type": "code",
      "source": [
        "# training\n",
        "batch_size = x_train.shape[0]\n",
        "\n",
        "lr = 0.0043 \n",
        "epochs = 10000  \n",
        "\n",
        "linear_reg = LinearRegression()\n",
        "linear_reg.fit(x_train, y_train, lr=lr, epochs=epochs, batch_size=batch_size)\n",
        "\n",
        "print(\"Intercepts: \", linear_reg.bias)\n",
        "print(\"Weights: \", linear_reg.weights)\n",
        "print('training loss: ', linear_reg.evaluate(x_train, y_train))\n",
        "print('validation loss: ', linear_reg.evaluate(x_val, y_val))"
      ],
      "metadata": {
        "id": "qW_xIn1pUorO",
        "colab": {
          "base_uri": "https://localhost:8080/"
        },
        "outputId": "41b21f86-d8a5-4473-f97a-12b893726785"
      },
      "execution_count": null,
      "outputs": [
        {
          "output_type": "stream",
          "name": "stdout",
          "text": [
            "Don't cheat.\n",
            "Intercepts:  13129.356255681132\n",
            "Weights:  [ 3503.02342746  -153.66747912 -2053.2065751    658.68300161\n",
            " -5329.22717804   825.62219466  -315.07644994 16312.59790977\n",
            "   -88.87415623  -289.42252314 -1288.43058669   347.56640853]\n",
            "training loss:  21655453.107878134\n",
            "validation loss:  29013618.726244316\n"
          ]
        }
      ]
    },
    {
      "cell_type": "code",
      "source": [
        "test_pred = linear_reg.predict(x_test)\n",
        "test_pred = test_pred.reshape(200,1)\n",
        "print(\"test_pred shape: \", test_pred.shape)\n",
        "assert test_pred.shape == (200, 1)"
      ],
      "metadata": {
        "id": "x-Q1nUG6xZfM",
        "colab": {
          "base_uri": "https://localhost:8080/"
        },
        "outputId": "e705044a-d90c-4bcb-dbb2-4d86c41c8dc2"
      },
      "execution_count": null,
      "outputs": [
        {
          "output_type": "stream",
          "name": "stdout",
          "text": [
            "test_pred shape:  (200, 1)\n"
          ]
        }
      ]
    },
    {
      "cell_type": "markdown",
      "metadata": {
        "id": "QCeukZcenm6O"
      },
      "source": [
        "# Output the csv file"
      ]
    },
    {
      "cell_type": "code",
      "execution_count": null,
      "metadata": {
        "id": "SEN7NUgmnm6O"
      },
      "outputs": [],
      "source": [
        "df_test = pd.DataFrame(pd.read_csv(\"./regression_test.csv\"))\n",
        "df_test[\"charges\"] = test_pred\n",
        "df_test.to_csv(\"sample_output.csv\")"
      ]
    }
  ],
  "metadata": {
    "kernelspec": {
      "display_name": "Python 3",
      "language": "python",
      "name": "python3"
    },
    "language_info": {
      "codemirror_mode": {
        "name": "ipython",
        "version": 3
      },
      "file_extension": ".py",
      "mimetype": "text/x-python",
      "name": "python",
      "nbconvert_exporter": "python",
      "pygments_lexer": "ipython3",
      "version": "3.9.6"
    },
    "orig_nbformat": 4,
    "vscode": {
      "interpreter": {
        "hash": "31f2aee4e71d21fbe5cf8b01ff0e069b9275f58929596ceb00d14d90e3e16cd6"
      }
    },
    "colab": {
      "provenance": []
    },
    "gpuClass": "standard"
  },
  "nbformat": 4,
  "nbformat_minor": 0
}